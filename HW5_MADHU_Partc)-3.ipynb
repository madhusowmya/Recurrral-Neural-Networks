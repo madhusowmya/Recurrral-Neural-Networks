{
  "nbformat": 4,
  "nbformat_minor": 0,
  "metadata": {
    "kernelspec": {
      "display_name": "Python 3",
      "language": "python",
      "name": "python3"
    },
    "language_info": {
      "codemirror_mode": {
        "name": "ipython",
        "version": 3
      },
      "file_extension": ".py",
      "mimetype": "text/x-python",
      "name": "python",
      "nbconvert_exporter": "python",
      "pygments_lexer": "ipython3",
      "version": "3.8.5"
    },
    "colab": {
      "name": "HW5_MADHU_Partc).ipynb",
      "provenance": [],
      "collapsed_sections": []
    }
  },
  "cells": [
    {
      "cell_type": "markdown",
      "metadata": {
        "id": "41XHNt66s7t8"
      },
      "source": [
        "partc)"
      ]
    },
    {
      "cell_type": "code",
      "metadata": {
        "id": "rJ1XcSz0s7uE"
      },
      "source": [
        "import pandas as pd\n",
        "import numpy as np\n",
        "import matplotlib.pyplot as plt\n",
        "import math\n",
        "from sklearn.metrics import mean_squared_error"
      ],
      "execution_count": null,
      "outputs": []
    },
    {
      "cell_type": "code",
      "metadata": {
        "colab": {
          "base_uri": "https://localhost:8080/"
        },
        "id": "179DhVNBs7uF",
        "outputId": "f70f330e-d8db-4975-ac6b-624945c47de6"
      },
      "source": [
        "from google.colab import drive # laoding drive where data is mounted\r\n",
        "drive.mount('/content/drive')"
      ],
      "execution_count": null,
      "outputs": [
        {
          "output_type": "stream",
          "text": [
            "Drive already mounted at /content/drive; to attempt to forcibly remount, call drive.mount(\"/content/drive\", force_remount=True).\n"
          ],
          "name": "stdout"
        }
      ]
    },
    {
      "cell_type": "code",
      "metadata": {
        "colab": {
          "base_uri": "https://localhost:8080/",
          "height": 359
        },
        "id": "OuQdeJR3s7uF",
        "outputId": "381c14fb-2559-4273-8969-897a31a83f19"
      },
      "source": [
        "data = pd.read_csv('/content/drive/My Drive/Colab Notebooks/HW5/airline-passengers.csv') #finding data path\n",
        "data[1:11] #first 10 rows"
      ],
      "execution_count": null,
      "outputs": [
        {
          "output_type": "execute_result",
          "data": {
            "text/html": [
              "<div>\n",
              "<style scoped>\n",
              "    .dataframe tbody tr th:only-of-type {\n",
              "        vertical-align: middle;\n",
              "    }\n",
              "\n",
              "    .dataframe tbody tr th {\n",
              "        vertical-align: top;\n",
              "    }\n",
              "\n",
              "    .dataframe thead th {\n",
              "        text-align: right;\n",
              "    }\n",
              "</style>\n",
              "<table border=\"1\" class=\"dataframe\">\n",
              "  <thead>\n",
              "    <tr style=\"text-align: right;\">\n",
              "      <th></th>\n",
              "      <th>Month</th>\n",
              "      <th>Passengers</th>\n",
              "    </tr>\n",
              "  </thead>\n",
              "  <tbody>\n",
              "    <tr>\n",
              "      <th>1</th>\n",
              "      <td>1949-02</td>\n",
              "      <td>118</td>\n",
              "    </tr>\n",
              "    <tr>\n",
              "      <th>2</th>\n",
              "      <td>1949-03</td>\n",
              "      <td>132</td>\n",
              "    </tr>\n",
              "    <tr>\n",
              "      <th>3</th>\n",
              "      <td>1949-04</td>\n",
              "      <td>129</td>\n",
              "    </tr>\n",
              "    <tr>\n",
              "      <th>4</th>\n",
              "      <td>1949-05</td>\n",
              "      <td>121</td>\n",
              "    </tr>\n",
              "    <tr>\n",
              "      <th>5</th>\n",
              "      <td>1949-06</td>\n",
              "      <td>135</td>\n",
              "    </tr>\n",
              "    <tr>\n",
              "      <th>6</th>\n",
              "      <td>1949-07</td>\n",
              "      <td>148</td>\n",
              "    </tr>\n",
              "    <tr>\n",
              "      <th>7</th>\n",
              "      <td>1949-08</td>\n",
              "      <td>148</td>\n",
              "    </tr>\n",
              "    <tr>\n",
              "      <th>8</th>\n",
              "      <td>1949-09</td>\n",
              "      <td>136</td>\n",
              "    </tr>\n",
              "    <tr>\n",
              "      <th>9</th>\n",
              "      <td>1949-10</td>\n",
              "      <td>119</td>\n",
              "    </tr>\n",
              "    <tr>\n",
              "      <th>10</th>\n",
              "      <td>1949-11</td>\n",
              "      <td>104</td>\n",
              "    </tr>\n",
              "  </tbody>\n",
              "</table>\n",
              "</div>"
            ],
            "text/plain": [
              "      Month  Passengers\n",
              "1   1949-02         118\n",
              "2   1949-03         132\n",
              "3   1949-04         129\n",
              "4   1949-05         121\n",
              "5   1949-06         135\n",
              "6   1949-07         148\n",
              "7   1949-08         148\n",
              "8   1949-09         136\n",
              "9   1949-10         119\n",
              "10  1949-11         104"
            ]
          },
          "metadata": {
            "tags": []
          },
          "execution_count": 40
        }
      ]
    },
    {
      "cell_type": "code",
      "metadata": {
        "id": "IQbJa9bxs7uG"
      },
      "source": [
        "data['Month'] = pd.to_datetime(data['Month'])"
      ],
      "execution_count": null,
      "outputs": []
    },
    {
      "cell_type": "code",
      "metadata": {
        "colab": {
          "base_uri": "https://localhost:8080/"
        },
        "id": "IeApqhIas7uG",
        "outputId": "a4c22c26-09b9-49ec-f9c1-4670f0f67906"
      },
      "source": [
        "data.info()"
      ],
      "execution_count": null,
      "outputs": [
        {
          "output_type": "stream",
          "text": [
            "<class 'pandas.core.frame.DataFrame'>\n",
            "RangeIndex: 144 entries, 0 to 143\n",
            "Data columns (total 2 columns):\n",
            " #   Column      Non-Null Count  Dtype         \n",
            "---  ------      --------------  -----         \n",
            " 0   Month       144 non-null    datetime64[ns]\n",
            " 1   Passengers  144 non-null    int64         \n",
            "dtypes: datetime64[ns](1), int64(1)\n",
            "memory usage: 2.4 KB\n"
          ],
          "name": "stdout"
        }
      ]
    },
    {
      "cell_type": "code",
      "metadata": {
        "id": "tCJJmn1ts7uH"
      },
      "source": [
        "data.set_index('Month', inplace=True)"
      ],
      "execution_count": null,
      "outputs": []
    },
    {
      "cell_type": "code",
      "metadata": {
        "colab": {
          "base_uri": "https://localhost:8080/",
          "height": 450
        },
        "id": "E6Q4boDms7uH",
        "outputId": "fc1264fa-dc12-4c93-f656-0e66d1122ce9"
      },
      "source": [
        "data"
      ],
      "execution_count": null,
      "outputs": [
        {
          "output_type": "execute_result",
          "data": {
            "text/html": [
              "<div>\n",
              "<style scoped>\n",
              "    .dataframe tbody tr th:only-of-type {\n",
              "        vertical-align: middle;\n",
              "    }\n",
              "\n",
              "    .dataframe tbody tr th {\n",
              "        vertical-align: top;\n",
              "    }\n",
              "\n",
              "    .dataframe thead th {\n",
              "        text-align: right;\n",
              "    }\n",
              "</style>\n",
              "<table border=\"1\" class=\"dataframe\">\n",
              "  <thead>\n",
              "    <tr style=\"text-align: right;\">\n",
              "      <th></th>\n",
              "      <th>Passengers</th>\n",
              "    </tr>\n",
              "    <tr>\n",
              "      <th>Month</th>\n",
              "      <th></th>\n",
              "    </tr>\n",
              "  </thead>\n",
              "  <tbody>\n",
              "    <tr>\n",
              "      <th>1949-01-01</th>\n",
              "      <td>112</td>\n",
              "    </tr>\n",
              "    <tr>\n",
              "      <th>1949-02-01</th>\n",
              "      <td>118</td>\n",
              "    </tr>\n",
              "    <tr>\n",
              "      <th>1949-03-01</th>\n",
              "      <td>132</td>\n",
              "    </tr>\n",
              "    <tr>\n",
              "      <th>1949-04-01</th>\n",
              "      <td>129</td>\n",
              "    </tr>\n",
              "    <tr>\n",
              "      <th>1949-05-01</th>\n",
              "      <td>121</td>\n",
              "    </tr>\n",
              "    <tr>\n",
              "      <th>...</th>\n",
              "      <td>...</td>\n",
              "    </tr>\n",
              "    <tr>\n",
              "      <th>1960-08-01</th>\n",
              "      <td>606</td>\n",
              "    </tr>\n",
              "    <tr>\n",
              "      <th>1960-09-01</th>\n",
              "      <td>508</td>\n",
              "    </tr>\n",
              "    <tr>\n",
              "      <th>1960-10-01</th>\n",
              "      <td>461</td>\n",
              "    </tr>\n",
              "    <tr>\n",
              "      <th>1960-11-01</th>\n",
              "      <td>390</td>\n",
              "    </tr>\n",
              "    <tr>\n",
              "      <th>1960-12-01</th>\n",
              "      <td>432</td>\n",
              "    </tr>\n",
              "  </tbody>\n",
              "</table>\n",
              "<p>144 rows × 1 columns</p>\n",
              "</div>"
            ],
            "text/plain": [
              "            Passengers\n",
              "Month                 \n",
              "1949-01-01         112\n",
              "1949-02-01         118\n",
              "1949-03-01         132\n",
              "1949-04-01         129\n",
              "1949-05-01         121\n",
              "...                ...\n",
              "1960-08-01         606\n",
              "1960-09-01         508\n",
              "1960-10-01         461\n",
              "1960-11-01         390\n",
              "1960-12-01         432\n",
              "\n",
              "[144 rows x 1 columns]"
            ]
          },
          "metadata": {
            "tags": []
          },
          "execution_count": 45
        }
      ]
    },
    {
      "cell_type": "markdown",
      "metadata": {
        "id": "mpsSYinVs7uH"
      },
      "source": [
        "Fix the random number seed to 0 in numpy for reproducibility. "
      ]
    },
    {
      "cell_type": "code",
      "metadata": {
        "id": "6wxtbPEss7uI"
      },
      "source": [
        "\n",
        "np.random.seed(0)"
      ],
      "execution_count": null,
      "outputs": []
    },
    {
      "cell_type": "markdown",
      "metadata": {
        "id": "OlGZ9ZLIs7uI"
      },
      "source": [
        "Convert the integer values in the data to ﬂoating point values, which are more suitable for modeling with a neural network."
      ]
    },
    {
      "cell_type": "code",
      "metadata": {
        "id": "Iqkl354us7uI"
      },
      "source": [
        "data['Passengers'] = data['Passengers'].astype(float)"
      ],
      "execution_count": null,
      "outputs": []
    },
    {
      "cell_type": "code",
      "metadata": {
        "colab": {
          "base_uri": "https://localhost:8080/"
        },
        "id": "cjQ-DnW7s7uI",
        "outputId": "46ff57ef-f3a9-4d32-8b57-ef0123429e5e"
      },
      "source": [
        "data['Passengers']"
      ],
      "execution_count": null,
      "outputs": [
        {
          "output_type": "execute_result",
          "data": {
            "text/plain": [
              "Month\n",
              "1949-01-01    112.0\n",
              "1949-02-01    118.0\n",
              "1949-03-01    132.0\n",
              "1949-04-01    129.0\n",
              "1949-05-01    121.0\n",
              "              ...  \n",
              "1960-08-01    606.0\n",
              "1960-09-01    508.0\n",
              "1960-10-01    461.0\n",
              "1960-11-01    390.0\n",
              "1960-12-01    432.0\n",
              "Name: Passengers, Length: 144, dtype: float64"
            ]
          },
          "metadata": {
            "tags": []
          },
          "execution_count": 48
        }
      ]
    },
    {
      "cell_type": "markdown",
      "metadata": {
        "id": "WrlfYZ9Ps7uJ"
      },
      "source": [
        " Normalize the data to range (0,1) since LSTMs are sensitive to the scale of the input data, speciﬁcally when the sigmoid or tanh activation functions are used. You can use the MinMaxScaler function in sklearn. \r\n",
        " "
      ]
    },
    {
      "cell_type": "code",
      "metadata": {
        "id": "T4FbsbC0s7uJ"
      },
      "source": [
        "data['Passengers']\n",
        "from sklearn.preprocessing import MinMaxScaler\n",
        "scaler=MinMaxScaler(feature_range=(0,1)) \n",
        "data=scaler.fit_transform(data)"
      ],
      "execution_count": null,
      "outputs": []
    },
    {
      "cell_type": "code",
      "metadata": {
        "colab": {
          "base_uri": "https://localhost:8080/"
        },
        "id": "JMMbBt46s7uJ",
        "outputId": "82dcb81d-f037-4889-f80d-65d2171a395e"
      },
      "source": [
        "data"
      ],
      "execution_count": null,
      "outputs": [
        {
          "output_type": "execute_result",
          "data": {
            "text/plain": [
              "array([[0.01544402],\n",
              "       [0.02702703],\n",
              "       [0.05405405],\n",
              "       [0.04826255],\n",
              "       [0.03281853],\n",
              "       [0.05984556],\n",
              "       [0.08494208],\n",
              "       [0.08494208],\n",
              "       [0.06177606],\n",
              "       [0.02895753],\n",
              "       [0.        ],\n",
              "       [0.02702703],\n",
              "       [0.02123552],\n",
              "       [0.04247104],\n",
              "       [0.07142857],\n",
              "       [0.05984556],\n",
              "       [0.04054054],\n",
              "       [0.08687259],\n",
              "       [0.12741313],\n",
              "       [0.12741313],\n",
              "       [0.1042471 ],\n",
              "       [0.05598456],\n",
              "       [0.01930502],\n",
              "       [0.06949807],\n",
              "       [0.07915058],\n",
              "       [0.08880309],\n",
              "       [0.14285714],\n",
              "       [0.11389961],\n",
              "       [0.13127413],\n",
              "       [0.14285714],\n",
              "       [0.18339768],\n",
              "       [0.18339768],\n",
              "       [0.15444015],\n",
              "       [0.11196911],\n",
              "       [0.08108108],\n",
              "       [0.11969112],\n",
              "       [0.12934363],\n",
              "       [0.14671815],\n",
              "       [0.17181467],\n",
              "       [0.14864865],\n",
              "       [0.15250965],\n",
              "       [0.22007722],\n",
              "       [0.24324324],\n",
              "       [0.26640927],\n",
              "       [0.2027027 ],\n",
              "       [0.16795367],\n",
              "       [0.13127413],\n",
              "       [0.17374517],\n",
              "       [0.17760618],\n",
              "       [0.17760618],\n",
              "       [0.25482625],\n",
              "       [0.25289575],\n",
              "       [0.24131274],\n",
              "       [0.26833977],\n",
              "       [0.30888031],\n",
              "       [0.32432432],\n",
              "       [0.25675676],\n",
              "       [0.20656371],\n",
              "       [0.14671815],\n",
              "       [0.18725869],\n",
              "       [0.19305019],\n",
              "       [0.16216216],\n",
              "       [0.25289575],\n",
              "       [0.23745174],\n",
              "       [0.25096525],\n",
              "       [0.30888031],\n",
              "       [0.38223938],\n",
              "       [0.36486486],\n",
              "       [0.2992278 ],\n",
              "       [0.24131274],\n",
              "       [0.19111969],\n",
              "       [0.24131274],\n",
              "       [0.26640927],\n",
              "       [0.24903475],\n",
              "       [0.31467181],\n",
              "       [0.31853282],\n",
              "       [0.32046332],\n",
              "       [0.40733591],\n",
              "       [0.5019305 ],\n",
              "       [0.46911197],\n",
              "       [0.4015444 ],\n",
              "       [0.32818533],\n",
              "       [0.25675676],\n",
              "       [0.33590734],\n",
              "       [0.34749035],\n",
              "       [0.33397683],\n",
              "       [0.41119691],\n",
              "       [0.4034749 ],\n",
              "       [0.41312741],\n",
              "       [0.52123552],\n",
              "       [0.5965251 ],\n",
              "       [0.58108108],\n",
              "       [0.48455598],\n",
              "       [0.38996139],\n",
              "       [0.32239382],\n",
              "       [0.38996139],\n",
              "       [0.40733591],\n",
              "       [0.38030888],\n",
              "       [0.48648649],\n",
              "       [0.47104247],\n",
              "       [0.48455598],\n",
              "       [0.61389961],\n",
              "       [0.6969112 ],\n",
              "       [0.7007722 ],\n",
              "       [0.57915058],\n",
              "       [0.46911197],\n",
              "       [0.38803089],\n",
              "       [0.44787645],\n",
              "       [0.45559846],\n",
              "       [0.41312741],\n",
              "       [0.4980695 ],\n",
              "       [0.47104247],\n",
              "       [0.5       ],\n",
              "       [0.63899614],\n",
              "       [0.74710425],\n",
              "       [0.77413127],\n",
              "       [0.57915058],\n",
              "       [0.49227799],\n",
              "       [0.3976834 ],\n",
              "       [0.44980695],\n",
              "       [0.49420849],\n",
              "       [0.45945946],\n",
              "       [0.58301158],\n",
              "       [0.56370656],\n",
              "       [0.61003861],\n",
              "       [0.71042471],\n",
              "       [0.85714286],\n",
              "       [0.87837838],\n",
              "       [0.69305019],\n",
              "       [0.58494208],\n",
              "       [0.4980695 ],\n",
              "       [0.58108108],\n",
              "       [0.6042471 ],\n",
              "       [0.55405405],\n",
              "       [0.60810811],\n",
              "       [0.68918919],\n",
              "       [0.71042471],\n",
              "       [0.83204633],\n",
              "       [1.        ],\n",
              "       [0.96911197],\n",
              "       [0.77992278],\n",
              "       [0.68918919],\n",
              "       [0.55212355],\n",
              "       [0.63320463]])"
            ]
          },
          "metadata": {
            "tags": []
          },
          "execution_count": 50
        }
      ]
    },
    {
      "cell_type": "markdown",
      "metadata": {
        "id": "7VGn47vRs7uK"
      },
      "source": [
        "Split the ﬁrst 67% of the data as training data and the remaining 33% as testing data."
      ]
    },
    {
      "cell_type": "code",
      "metadata": {
        "id": "1gEkcmces7uK"
      },
      "source": [
        "#Creating train and test partition\n",
        "train = int(len(data)*0.67)\n",
        "test = len(data)-train # from seprating train from the main data for extracting test data\n",
        "train_data,test_data=data[0:train,:],data[train:len(data),:1]"
      ],
      "execution_count": null,
      "outputs": []
    },
    {
      "cell_type": "markdown",
      "metadata": {
        "id": "43dWGaaEs7uK"
      },
      "source": [
        "Obtain the two-column input-output dataset to be used in LSTM, where the ﬁrst column is the input (number of passengers in the current month) for each instance (i.e., each row), and the second column is the output (number of passengers next month). In this dataset, the values in the ﬁrst column will be the same as the values in the second column of previous row."
      ]
    },
    {
      "cell_type": "code",
      "metadata": {
        "id": "pZF_pFWGs7uK"
      },
      "source": [
        " #array  values to a dataset matrix\n",
        "def create_dataset(dataset, time_step=1):\n",
        "\tdataX, dataY = [], []\n",
        "\tfor i in range(len(dataset)-time_step-1):\n",
        "\t\ta = dataset[i:(i+time_step), 0]   ###i=0, 0,1\n",
        "\t\tdataX.append(a)\n",
        "\t\tdataY.append(dataset[i + time_step, 0])\n",
        "\treturn np.array(dataX), np.array(dataY)"
      ],
      "execution_count": null,
      "outputs": []
    },
    {
      "cell_type": "markdown",
      "metadata": {
        "id": "6l--jmXIs7uK"
      },
      "source": [
        "Reshape the input data to be in the [samples, time steps, features] format, which LSTM network expects. The time step will be 1 with this dataset since each monthly sample represents a unit time step. You can use the\n",
        "1\n",
        "reshape function in numpy with (Xtrain.shape[0], 1, Xtrain.shape[1]) as the new size, where Xtrain is the training input data. Apply the same reshaping to the test data Xtest. "
      ]
    },
    {
      "cell_type": "code",
      "metadata": {
        "colab": {
          "base_uri": "https://localhost:8080/"
        },
        "id": "uiTmlPYSs7uL",
        "outputId": "ad7b649b-0d0a-437f-99f9-eb8bd4588c61"
      },
      "source": [
        "# reshape into X=t and Y=t+1\n",
        "time_step = 1\n",
        "X_train, y_train = create_dataset(train_data, time_step)\n",
        "X_test, y_test = create_dataset(test_data, time_step)\n",
        "y_train"
      ],
      "execution_count": null,
      "outputs": [
        {
          "output_type": "execute_result",
          "data": {
            "text/plain": [
              "array([0.02702703, 0.05405405, 0.04826255, 0.03281853, 0.05984556,\n",
              "       0.08494208, 0.08494208, 0.06177606, 0.02895753, 0.        ,\n",
              "       0.02702703, 0.02123552, 0.04247104, 0.07142857, 0.05984556,\n",
              "       0.04054054, 0.08687259, 0.12741313, 0.12741313, 0.1042471 ,\n",
              "       0.05598456, 0.01930502, 0.06949807, 0.07915058, 0.08880309,\n",
              "       0.14285714, 0.11389961, 0.13127413, 0.14285714, 0.18339768,\n",
              "       0.18339768, 0.15444015, 0.11196911, 0.08108108, 0.11969112,\n",
              "       0.12934363, 0.14671815, 0.17181467, 0.14864865, 0.15250965,\n",
              "       0.22007722, 0.24324324, 0.26640927, 0.2027027 , 0.16795367,\n",
              "       0.13127413, 0.17374517, 0.17760618, 0.17760618, 0.25482625,\n",
              "       0.25289575, 0.24131274, 0.26833977, 0.30888031, 0.32432432,\n",
              "       0.25675676, 0.20656371, 0.14671815, 0.18725869, 0.19305019,\n",
              "       0.16216216, 0.25289575, 0.23745174, 0.25096525, 0.30888031,\n",
              "       0.38223938, 0.36486486, 0.2992278 , 0.24131274, 0.19111969,\n",
              "       0.24131274, 0.26640927, 0.24903475, 0.31467181, 0.31853282,\n",
              "       0.32046332, 0.40733591, 0.5019305 , 0.46911197, 0.4015444 ,\n",
              "       0.32818533, 0.25675676, 0.33590734, 0.34749035, 0.33397683,\n",
              "       0.41119691, 0.4034749 , 0.41312741, 0.52123552, 0.5965251 ,\n",
              "       0.58108108, 0.48455598, 0.38996139, 0.32239382])"
            ]
          },
          "metadata": {
            "tags": []
          },
          "execution_count": 53
        }
      ]
    },
    {
      "cell_type": "code",
      "metadata": {
        "colab": {
          "base_uri": "https://localhost:8080/"
        },
        "id": "Qj2Oqj3es7uL",
        "outputId": "1d409919-7f7e-4f76-e88a-7da2db311242"
      },
      "source": [
        "X_train"
      ],
      "execution_count": null,
      "outputs": [
        {
          "output_type": "execute_result",
          "data": {
            "text/plain": [
              "array([[0.01544402],\n",
              "       [0.02702703],\n",
              "       [0.05405405],\n",
              "       [0.04826255],\n",
              "       [0.03281853],\n",
              "       [0.05984556],\n",
              "       [0.08494208],\n",
              "       [0.08494208],\n",
              "       [0.06177606],\n",
              "       [0.02895753],\n",
              "       [0.        ],\n",
              "       [0.02702703],\n",
              "       [0.02123552],\n",
              "       [0.04247104],\n",
              "       [0.07142857],\n",
              "       [0.05984556],\n",
              "       [0.04054054],\n",
              "       [0.08687259],\n",
              "       [0.12741313],\n",
              "       [0.12741313],\n",
              "       [0.1042471 ],\n",
              "       [0.05598456],\n",
              "       [0.01930502],\n",
              "       [0.06949807],\n",
              "       [0.07915058],\n",
              "       [0.08880309],\n",
              "       [0.14285714],\n",
              "       [0.11389961],\n",
              "       [0.13127413],\n",
              "       [0.14285714],\n",
              "       [0.18339768],\n",
              "       [0.18339768],\n",
              "       [0.15444015],\n",
              "       [0.11196911],\n",
              "       [0.08108108],\n",
              "       [0.11969112],\n",
              "       [0.12934363],\n",
              "       [0.14671815],\n",
              "       [0.17181467],\n",
              "       [0.14864865],\n",
              "       [0.15250965],\n",
              "       [0.22007722],\n",
              "       [0.24324324],\n",
              "       [0.26640927],\n",
              "       [0.2027027 ],\n",
              "       [0.16795367],\n",
              "       [0.13127413],\n",
              "       [0.17374517],\n",
              "       [0.17760618],\n",
              "       [0.17760618],\n",
              "       [0.25482625],\n",
              "       [0.25289575],\n",
              "       [0.24131274],\n",
              "       [0.26833977],\n",
              "       [0.30888031],\n",
              "       [0.32432432],\n",
              "       [0.25675676],\n",
              "       [0.20656371],\n",
              "       [0.14671815],\n",
              "       [0.18725869],\n",
              "       [0.19305019],\n",
              "       [0.16216216],\n",
              "       [0.25289575],\n",
              "       [0.23745174],\n",
              "       [0.25096525],\n",
              "       [0.30888031],\n",
              "       [0.38223938],\n",
              "       [0.36486486],\n",
              "       [0.2992278 ],\n",
              "       [0.24131274],\n",
              "       [0.19111969],\n",
              "       [0.24131274],\n",
              "       [0.26640927],\n",
              "       [0.24903475],\n",
              "       [0.31467181],\n",
              "       [0.31853282],\n",
              "       [0.32046332],\n",
              "       [0.40733591],\n",
              "       [0.5019305 ],\n",
              "       [0.46911197],\n",
              "       [0.4015444 ],\n",
              "       [0.32818533],\n",
              "       [0.25675676],\n",
              "       [0.33590734],\n",
              "       [0.34749035],\n",
              "       [0.33397683],\n",
              "       [0.41119691],\n",
              "       [0.4034749 ],\n",
              "       [0.41312741],\n",
              "       [0.52123552],\n",
              "       [0.5965251 ],\n",
              "       [0.58108108],\n",
              "       [0.48455598],\n",
              "       [0.38996139]])"
            ]
          },
          "metadata": {
            "tags": []
          },
          "execution_count": 55
        }
      ]
    },
    {
      "cell_type": "code",
      "metadata": {
        "colab": {
          "base_uri": "https://localhost:8080/"
        },
        "id": "dhIAqFGKs7uL",
        "outputId": "c9677850-8a4c-4549-f3cb-33a5a87c09c1"
      },
      "source": [
        "X_train.shape, y_train.shape\n"
      ],
      "execution_count": null,
      "outputs": [
        {
          "output_type": "execute_result",
          "data": {
            "text/plain": [
              "((94, 1), (94,))"
            ]
          },
          "metadata": {
            "tags": []
          },
          "execution_count": 56
        }
      ]
    },
    {
      "cell_type": "code",
      "metadata": {
        "colab": {
          "base_uri": "https://localhost:8080/"
        },
        "id": "rzybCHBYs7uM",
        "outputId": "fff88352-ea03-4e39-eccb-84c2e20a5da0"
      },
      "source": [
        "# reshape input to  [sample, time steps, features] which is necessary for LSTM\n",
        "X_train =X_train.reshape(X_train.shape[0], 1, X_train.shape[1])\n",
        "X_test = X_test.reshape(X_test.shape[0], 1, X_test.shape[1] )\n",
        "\n",
        "X_train.shape"
      ],
      "execution_count": null,
      "outputs": [
        {
          "output_type": "execute_result",
          "data": {
            "text/plain": [
              "(94, 1, 1)"
            ]
          },
          "metadata": {
            "tags": []
          },
          "execution_count": 57
        }
      ]
    },
    {
      "cell_type": "code",
      "metadata": {
        "colab": {
          "base_uri": "https://localhost:8080/"
        },
        "id": "BOBYi8e9s7uM",
        "outputId": "a2b5eb81-d42a-4c67-be23-e4edc980d0e4"
      },
      "source": [
        "y_train.shape"
      ],
      "execution_count": null,
      "outputs": [
        {
          "output_type": "execute_result",
          "data": {
            "text/plain": [
              "(94,)"
            ]
          },
          "metadata": {
            "tags": []
          },
          "execution_count": 58
        }
      ]
    },
    {
      "cell_type": "markdown",
      "metadata": {
        "id": "sxMzwEIDs7uM"
      },
      "source": [
        "Build the LSTM network with a hidden layer of 4 neurons, and an output layer with a single neuron. Use sigmoid activation function in the hidden layer, 100 epochs, batch size of 1, “adam” optimizer, and mean-squarederror loss"
      ]
    },
    {
      "cell_type": "code",
      "metadata": {
        "colab": {
          "base_uri": "https://localhost:8080/"
        },
        "id": "slwBVE1Bs7uM",
        "outputId": "699fa48a-2e9e-4b27-aa99-e99259518f72"
      },
      "source": [
        "import tensorflow \n",
        "from tensorflow.keras.models import Sequential\n",
        "from tensorflow.compat.v1.keras.layers import Dense,CuDNNLSTM, LSTM\n",
        "from sklearn.preprocessing import MinMaxScaler\n",
        "from sklearn.metrics import mean_squared_error\n",
        "import math \n",
        "\n",
        "\n",
        "model=Sequential()\n",
        "#model.add(LSTM(4, input_dim=1))#inputlayer\n",
        "model.add(LSTM(50,return_sequences=True,input_shape=(1,1)))\n",
        "model.add(LSTM(4))\n",
        "model.add(Dense(1))# output layer\n",
        "model.compile(loss='mean_squared_error',optimizer='adam')\n",
        "model.fit(X_train,y_train,validation_data=(X_test,y_test),epochs=100,batch_size=1,verbose=1)"
      ],
      "execution_count": null,
      "outputs": [
        {
          "output_type": "stream",
          "text": [
            "Epoch 1/100\n",
            "94/94 [==============================] - 1s 7ms/step - loss: 0.0359 - val_loss: 0.1704\n",
            "Epoch 2/100\n",
            "94/94 [==============================] - 0s 3ms/step - loss: 0.0148 - val_loss: 0.1262\n",
            "Epoch 3/100\n",
            "94/94 [==============================] - 0s 3ms/step - loss: 0.0118 - val_loss: 0.0804\n",
            "Epoch 4/100\n",
            "94/94 [==============================] - 0s 3ms/step - loss: 0.0090 - val_loss: 0.0616\n",
            "Epoch 5/100\n",
            "94/94 [==============================] - 0s 3ms/step - loss: 0.0066 - val_loss: 0.0279\n",
            "Epoch 6/100\n",
            "94/94 [==============================] - 0s 3ms/step - loss: 0.0043 - val_loss: 0.0145\n",
            "Epoch 7/100\n",
            "94/94 [==============================] - 0s 3ms/step - loss: 0.0030 - val_loss: 0.0104\n",
            "Epoch 8/100\n",
            "94/94 [==============================] - 0s 3ms/step - loss: 0.0025 - val_loss: 0.0101\n",
            "Epoch 9/100\n",
            "94/94 [==============================] - 0s 3ms/step - loss: 0.0023 - val_loss: 0.0103\n",
            "Epoch 10/100\n",
            "94/94 [==============================] - 0s 3ms/step - loss: 0.0023 - val_loss: 0.0113\n",
            "Epoch 11/100\n",
            "94/94 [==============================] - 0s 3ms/step - loss: 0.0023 - val_loss: 0.0103\n",
            "Epoch 12/100\n",
            "94/94 [==============================] - 0s 3ms/step - loss: 0.0022 - val_loss: 0.0102\n",
            "Epoch 13/100\n",
            "94/94 [==============================] - 0s 3ms/step - loss: 0.0022 - val_loss: 0.0144\n",
            "Epoch 14/100\n",
            "94/94 [==============================] - 0s 3ms/step - loss: 0.0024 - val_loss: 0.0104\n",
            "Epoch 15/100\n",
            "94/94 [==============================] - 0s 3ms/step - loss: 0.0023 - val_loss: 0.0098\n",
            "Epoch 16/100\n",
            "94/94 [==============================] - 0s 3ms/step - loss: 0.0022 - val_loss: 0.0100\n",
            "Epoch 17/100\n",
            "94/94 [==============================] - 0s 3ms/step - loss: 0.0022 - val_loss: 0.0102\n",
            "Epoch 18/100\n",
            "94/94 [==============================] - 0s 3ms/step - loss: 0.0022 - val_loss: 0.0097\n",
            "Epoch 19/100\n",
            "94/94 [==============================] - 0s 3ms/step - loss: 0.0022 - val_loss: 0.0093\n",
            "Epoch 20/100\n",
            "94/94 [==============================] - 0s 3ms/step - loss: 0.0022 - val_loss: 0.0094\n",
            "Epoch 21/100\n",
            "94/94 [==============================] - 0s 3ms/step - loss: 0.0022 - val_loss: 0.0102\n",
            "Epoch 22/100\n",
            "94/94 [==============================] - 0s 3ms/step - loss: 0.0022 - val_loss: 0.0100\n",
            "Epoch 23/100\n",
            "94/94 [==============================] - 0s 3ms/step - loss: 0.0022 - val_loss: 0.0098\n",
            "Epoch 24/100\n",
            "94/94 [==============================] - 0s 3ms/step - loss: 0.0023 - val_loss: 0.0088\n",
            "Epoch 25/100\n",
            "94/94 [==============================] - 0s 3ms/step - loss: 0.0022 - val_loss: 0.0088\n",
            "Epoch 26/100\n",
            "94/94 [==============================] - 0s 3ms/step - loss: 0.0023 - val_loss: 0.0091\n",
            "Epoch 27/100\n",
            "94/94 [==============================] - 0s 3ms/step - loss: 0.0022 - val_loss: 0.0087\n",
            "Epoch 28/100\n",
            "94/94 [==============================] - 0s 3ms/step - loss: 0.0021 - val_loss: 0.0094\n",
            "Epoch 29/100\n",
            "94/94 [==============================] - 0s 3ms/step - loss: 0.0023 - val_loss: 0.0090\n",
            "Epoch 30/100\n",
            "94/94 [==============================] - 0s 3ms/step - loss: 0.0022 - val_loss: 0.0099\n",
            "Epoch 31/100\n",
            "94/94 [==============================] - 0s 3ms/step - loss: 0.0021 - val_loss: 0.0083\n",
            "Epoch 32/100\n",
            "94/94 [==============================] - 0s 3ms/step - loss: 0.0025 - val_loss: 0.0092\n",
            "Epoch 33/100\n",
            "94/94 [==============================] - 0s 3ms/step - loss: 0.0021 - val_loss: 0.0092\n",
            "Epoch 34/100\n",
            "94/94 [==============================] - 0s 3ms/step - loss: 0.0022 - val_loss: 0.0084\n",
            "Epoch 35/100\n",
            "94/94 [==============================] - 0s 3ms/step - loss: 0.0023 - val_loss: 0.0083\n",
            "Epoch 36/100\n",
            "94/94 [==============================] - 0s 3ms/step - loss: 0.0022 - val_loss: 0.0087\n",
            "Epoch 37/100\n",
            "94/94 [==============================] - 0s 3ms/step - loss: 0.0020 - val_loss: 0.0084\n",
            "Epoch 38/100\n",
            "94/94 [==============================] - 0s 3ms/step - loss: 0.0023 - val_loss: 0.0093\n",
            "Epoch 39/100\n",
            "94/94 [==============================] - 0s 3ms/step - loss: 0.0021 - val_loss: 0.0082\n",
            "Epoch 40/100\n",
            "94/94 [==============================] - 0s 3ms/step - loss: 0.0022 - val_loss: 0.0084\n",
            "Epoch 41/100\n",
            "94/94 [==============================] - 0s 3ms/step - loss: 0.0022 - val_loss: 0.0080\n",
            "Epoch 42/100\n",
            "94/94 [==============================] - 0s 3ms/step - loss: 0.0022 - val_loss: 0.0085\n",
            "Epoch 43/100\n",
            "94/94 [==============================] - 0s 3ms/step - loss: 0.0022 - val_loss: 0.0085\n",
            "Epoch 44/100\n",
            "94/94 [==============================] - 0s 3ms/step - loss: 0.0020 - val_loss: 0.0102\n",
            "Epoch 45/100\n",
            "94/94 [==============================] - 0s 3ms/step - loss: 0.0021 - val_loss: 0.0094\n",
            "Epoch 46/100\n",
            "94/94 [==============================] - 0s 3ms/step - loss: 0.0021 - val_loss: 0.0100\n",
            "Epoch 47/100\n",
            "94/94 [==============================] - 0s 3ms/step - loss: 0.0021 - val_loss: 0.0092\n",
            "Epoch 48/100\n",
            "94/94 [==============================] - 0s 3ms/step - loss: 0.0021 - val_loss: 0.0086\n",
            "Epoch 49/100\n",
            "94/94 [==============================] - 0s 3ms/step - loss: 0.0020 - val_loss: 0.0095\n",
            "Epoch 50/100\n",
            "94/94 [==============================] - 0s 3ms/step - loss: 0.0022 - val_loss: 0.0099\n",
            "Epoch 51/100\n",
            "94/94 [==============================] - 0s 3ms/step - loss: 0.0022 - val_loss: 0.0089\n",
            "Epoch 52/100\n",
            "94/94 [==============================] - 0s 3ms/step - loss: 0.0021 - val_loss: 0.0091\n",
            "Epoch 53/100\n",
            "94/94 [==============================] - 0s 3ms/step - loss: 0.0020 - val_loss: 0.0116\n",
            "Epoch 54/100\n",
            "94/94 [==============================] - 0s 3ms/step - loss: 0.0022 - val_loss: 0.0087\n",
            "Epoch 55/100\n",
            "94/94 [==============================] - 0s 3ms/step - loss: 0.0021 - val_loss: 0.0091\n",
            "Epoch 56/100\n",
            "94/94 [==============================] - 0s 3ms/step - loss: 0.0020 - val_loss: 0.0100\n",
            "Epoch 57/100\n",
            "94/94 [==============================] - 0s 3ms/step - loss: 0.0022 - val_loss: 0.0091\n",
            "Epoch 58/100\n",
            "94/94 [==============================] - 0s 3ms/step - loss: 0.0021 - val_loss: 0.0102\n",
            "Epoch 59/100\n",
            "94/94 [==============================] - 0s 3ms/step - loss: 0.0021 - val_loss: 0.0104\n",
            "Epoch 60/100\n",
            "94/94 [==============================] - 0s 3ms/step - loss: 0.0020 - val_loss: 0.0113\n",
            "Epoch 61/100\n",
            "94/94 [==============================] - 0s 3ms/step - loss: 0.0020 - val_loss: 0.0104\n",
            "Epoch 62/100\n",
            "94/94 [==============================] - 0s 3ms/step - loss: 0.0022 - val_loss: 0.0089\n",
            "Epoch 63/100\n",
            "94/94 [==============================] - 0s 3ms/step - loss: 0.0023 - val_loss: 0.0116\n",
            "Epoch 64/100\n",
            "94/94 [==============================] - 0s 3ms/step - loss: 0.0020 - val_loss: 0.0091\n",
            "Epoch 65/100\n",
            "94/94 [==============================] - 0s 3ms/step - loss: 0.0021 - val_loss: 0.0112\n",
            "Epoch 66/100\n",
            "94/94 [==============================] - 0s 3ms/step - loss: 0.0020 - val_loss: 0.0140\n",
            "Epoch 67/100\n",
            "94/94 [==============================] - 0s 3ms/step - loss: 0.0019 - val_loss: 0.0085\n",
            "Epoch 68/100\n",
            "94/94 [==============================] - 0s 3ms/step - loss: 0.0021 - val_loss: 0.0086\n",
            "Epoch 69/100\n",
            "94/94 [==============================] - 0s 3ms/step - loss: 0.0021 - val_loss: 0.0119\n",
            "Epoch 70/100\n",
            "94/94 [==============================] - 0s 3ms/step - loss: 0.0023 - val_loss: 0.0126\n",
            "Epoch 71/100\n",
            "94/94 [==============================] - 0s 3ms/step - loss: 0.0023 - val_loss: 0.0099\n",
            "Epoch 72/100\n",
            "94/94 [==============================] - 0s 3ms/step - loss: 0.0021 - val_loss: 0.0091\n",
            "Epoch 73/100\n",
            "94/94 [==============================] - 0s 3ms/step - loss: 0.0020 - val_loss: 0.0112\n",
            "Epoch 74/100\n",
            "94/94 [==============================] - 0s 3ms/step - loss: 0.0020 - val_loss: 0.0102\n",
            "Epoch 75/100\n",
            "94/94 [==============================] - 0s 3ms/step - loss: 0.0021 - val_loss: 0.0113\n",
            "Epoch 76/100\n",
            "94/94 [==============================] - 0s 3ms/step - loss: 0.0020 - val_loss: 0.0109\n",
            "Epoch 77/100\n",
            "94/94 [==============================] - 0s 3ms/step - loss: 0.0020 - val_loss: 0.0115\n",
            "Epoch 78/100\n",
            "94/94 [==============================] - 0s 3ms/step - loss: 0.0020 - val_loss: 0.0096\n",
            "Epoch 79/100\n",
            "94/94 [==============================] - 0s 3ms/step - loss: 0.0022 - val_loss: 0.0100\n",
            "Epoch 80/100\n",
            "94/94 [==============================] - 0s 3ms/step - loss: 0.0021 - val_loss: 0.0114\n",
            "Epoch 81/100\n",
            "94/94 [==============================] - 0s 3ms/step - loss: 0.0020 - val_loss: 0.0096\n",
            "Epoch 82/100\n",
            "94/94 [==============================] - 0s 3ms/step - loss: 0.0021 - val_loss: 0.0093\n",
            "Epoch 83/100\n",
            "94/94 [==============================] - 0s 3ms/step - loss: 0.0022 - val_loss: 0.0116\n",
            "Epoch 84/100\n",
            "94/94 [==============================] - 0s 3ms/step - loss: 0.0020 - val_loss: 0.0082\n",
            "Epoch 85/100\n",
            "94/94 [==============================] - 0s 3ms/step - loss: 0.0021 - val_loss: 0.0115\n",
            "Epoch 86/100\n",
            "94/94 [==============================] - 0s 3ms/step - loss: 0.0020 - val_loss: 0.0104\n",
            "Epoch 87/100\n",
            "94/94 [==============================] - 0s 3ms/step - loss: 0.0021 - val_loss: 0.0140\n",
            "Epoch 88/100\n",
            "94/94 [==============================] - 0s 3ms/step - loss: 0.0021 - val_loss: 0.0123\n",
            "Epoch 89/100\n",
            "94/94 [==============================] - 0s 3ms/step - loss: 0.0019 - val_loss: 0.0147\n",
            "Epoch 90/100\n",
            "94/94 [==============================] - 0s 3ms/step - loss: 0.0020 - val_loss: 0.0111\n",
            "Epoch 91/100\n",
            "94/94 [==============================] - 0s 3ms/step - loss: 0.0021 - val_loss: 0.0106\n",
            "Epoch 92/100\n",
            "94/94 [==============================] - 0s 3ms/step - loss: 0.0021 - val_loss: 0.0105\n",
            "Epoch 93/100\n",
            "94/94 [==============================] - 0s 3ms/step - loss: 0.0020 - val_loss: 0.0121\n",
            "Epoch 94/100\n",
            "94/94 [==============================] - 0s 3ms/step - loss: 0.0019 - val_loss: 0.0090\n",
            "Epoch 95/100\n",
            "94/94 [==============================] - 0s 3ms/step - loss: 0.0023 - val_loss: 0.0106\n",
            "Epoch 96/100\n",
            "94/94 [==============================] - 0s 3ms/step - loss: 0.0020 - val_loss: 0.0098\n",
            "Epoch 97/100\n",
            "94/94 [==============================] - 0s 3ms/step - loss: 0.0021 - val_loss: 0.0103\n",
            "Epoch 98/100\n",
            "94/94 [==============================] - 0s 3ms/step - loss: 0.0021 - val_loss: 0.0132\n",
            "Epoch 99/100\n",
            "94/94 [==============================] - 0s 3ms/step - loss: 0.0020 - val_loss: 0.0144\n",
            "Epoch 100/100\n",
            "94/94 [==============================] - 0s 3ms/step - loss: 0.0020 - val_loss: 0.0106\n"
          ],
          "name": "stdout"
        },
        {
          "output_type": "execute_result",
          "data": {
            "text/plain": [
              "<tensorflow.python.keras.callbacks.History at 0x7fecd26b6828>"
            ]
          },
          "metadata": {
            "tags": []
          },
          "execution_count": 64
        }
      ]
    },
    {
      "cell_type": "code",
      "metadata": {
        "colab": {
          "base_uri": "https://localhost:8080/"
        },
        "id": "07Jgnmios7uN",
        "outputId": "6d4f071d-2b26-4e5b-94f9-72822038d87d"
      },
      "source": [
        "X_train.shape, y_train.shape"
      ],
      "execution_count": null,
      "outputs": [
        {
          "output_type": "execute_result",
          "data": {
            "text/plain": [
              "((94, 1, 1), (94,))"
            ]
          },
          "metadata": {
            "tags": []
          },
          "execution_count": 65
        }
      ]
    },
    {
      "cell_type": "markdown",
      "metadata": {
        "id": "cih4PUKFusc4"
      },
      "source": [
        " Predict the next month’s number of passengers and invert the predictions using the “inverse-transform” attribute of MinMaxScaler to go back to the original unit (thousands of passengers per month). "
      ]
    },
    {
      "cell_type": "code",
      "metadata": {
        "id": "_rPskzgps7uN"
      },
      "source": [
        "#Model Prediction\n",
        "train_predict=model.predict(X_train)\n",
        "test_predict=model.predict(X_test)\n",
        "\n"
      ],
      "execution_count": null,
      "outputs": []
    },
    {
      "cell_type": "code",
      "metadata": {
        "id": "6CBE4Bo0s7uN"
      },
      "source": [
        "#Transforming data back to original form\n",
        "train_predict=scaler.inverse_transform(train_predict)\n",
        "y_train = scaler.inverse_transform([y_train])\n",
        "test_predict=scaler.inverse_transform(test_predict)\n",
        "y_test = scaler.inverse_transform([y_test])\n",
        "\n"
      ],
      "execution_count": null,
      "outputs": []
    },
    {
      "cell_type": "markdown",
      "metadata": {
        "id": "Wj-Kjpluvary"
      },
      "source": [
        "Calculate and print the root-mean-squared-error (RMSE) in training and test data. "
      ]
    },
    {
      "cell_type": "code",
      "metadata": {
        "colab": {
          "base_uri": "https://localhost:8080/"
        },
        "id": "2rgCIlM0s7uO",
        "outputId": "8ac51f34-d88c-429e-93b1-5f2e5fea1955"
      },
      "source": [
        "# calculate root mean squared error\n",
        "trainScore = math.sqrt(mean_squared_error(y_train[0], train_predict[:,0]))\n",
        "print('Train Score: %.2f RMSE' % (trainScore))\n",
        "testScore = math.sqrt(mean_squared_error(y_test[0], test_predict[:,0]))\n",
        "print('Test Score: %.2f RMSE' % (testScore))"
      ],
      "execution_count": null,
      "outputs": [
        {
          "output_type": "stream",
          "text": [
            "Train Score: 22.77 RMSE\n",
            "Test Score: 53.22 RMSE\n"
          ],
          "name": "stdout"
        }
      ]
    },
    {
      "cell_type": "markdown",
      "metadata": {
        "id": "MdeYOad7virG"
      },
      "source": [
        " Finally, align and plot the actual and predicted values for the entire dataset including training and testing"
      ]
    },
    {
      "cell_type": "code",
      "metadata": {
        "colab": {
          "base_uri": "https://localhost:8080/",
          "height": 295
        },
        "id": "p9JVJ1hss7uO",
        "outputId": "c6646a43-07bf-4e80-881f-f5b7f2e1688b"
      },
      "source": [
        "look_back = 1\n",
        "# shift train predictions for plotting\n",
        "trainPredictPlot = np.empty_like(data)\n",
        "trainPredictPlot[:, :] = np.nan\n",
        "trainPredictPlot[look_back:len(train_predict)+look_back, :] = train_predict\n",
        "# shift test predictions for plotting\n",
        "testPredictPlot = np.empty_like(data)\n",
        "testPredictPlot[:, :] = np.nan\n",
        "testPredictPlot[len(train_predict)+(look_back*2)+1:len(data)-1, :] = test_predict\n",
        "# plot baseline and predictions\n",
        "plt.xlabel(\"Month\")\n",
        "plt.ylabel(\"Passengers\")\n",
        "plt.title(\"Passengers Travelled\")\n",
        "plt.plot(scaler.inverse_transform(data))\n",
        "plt.plot(trainPredictPlot)\n",
        "plt.plot(testPredictPlot)\n",
        "plt.show()"
      ],
      "execution_count": null,
      "outputs": [
        {
          "output_type": "display_data",
          "data": {
            "image/png": "[encoded data removed]",
            "text/plain": [
              "<Figure size 432x288 with 1 Axes>"
            ]
          },
          "metadata": {
            "tags": [],
            "needs_background": "light"
          }
        }
      ]
    }
  ]
}