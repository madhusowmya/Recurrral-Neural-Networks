{
  "nbformat": 4,
  "nbformat_minor": 0,
  "metadata": {
    "kernelspec": {
      "display_name": "Python 3",
      "language": "python",
      "name": "python3"
    },
    "language_info": {
      "codemirror_mode": {
        "name": "ipython",
        "version": 3
      },
      "file_extension": ".py",
      "mimetype": "text/x-python",
      "name": "python",
      "nbconvert_exporter": "python",
      "pygments_lexer": "ipython3",
      "version": "3.8.5"
    },
    "colab": {
      "name": " HW5_MADHU_Partd).ipynb",
      "provenance": [],
      "collapsed_sections": []
    }
  },
  "cells": [
    {
      "cell_type": "markdown",
      "metadata": {
        "id": "41XHNt66s7t8"
      },
      "source": [
        "partd) "
      ]
    },
    {
      "cell_type": "code",
      "metadata": {
        "id": "rJ1XcSz0s7uE"
      },
      "source": [
        "import pandas as pd\n",
        "import numpy as np\n",
        "import matplotlib.pyplot as plt\n",
        "import math\n",
        "from sklearn.metrics import mean_squared_error"
      ],
      "execution_count": 86,
      "outputs": []
    },
    {
      "cell_type": "code",
      "metadata": {
        "colab": {
          "base_uri": "https://localhost:8080/"
        },
        "id": "179DhVNBs7uF",
        "outputId": "37a17e50-b94f-4d1e-f50a-231fe3e17e02"
      },
      "source": [
        "from google.colab import drive\r\n",
        "drive.mount('/content/drive')"
      ],
      "execution_count": 87,
      "outputs": [
        {
          "output_type": "stream",
          "text": [
            "Drive already mounted at /content/drive; to attempt to forcibly remount, call drive.mount(\"/content/drive\", force_remount=True).\n"
          ],
          "name": "stdout"
        }
      ]
    },
    {
      "cell_type": "code",
      "metadata": {
        "colab": {
          "base_uri": "https://localhost:8080/",
          "height": 415
        },
        "id": "OuQdeJR3s7uF",
        "outputId": "fbcdef10-aa9b-49ab-b5c6-7a82fe2c4b33"
      },
      "source": [
        "data = pd.read_csv('/content/drive/My Drive/Colab Notebooks/HW5/airline-passengers.csv')\n",
        "data"
      ],
      "execution_count": 88,
      "outputs": [
        {
          "output_type": "execute_result",
          "data": {
            "text/html": [
              "<div>\n",
              "<style scoped>\n",
              "    .dataframe tbody tr th:only-of-type {\n",
              "        vertical-align: middle;\n",
              "    }\n",
              "\n",
              "    .dataframe tbody tr th {\n",
              "        vertical-align: top;\n",
              "    }\n",
              "\n",
              "    .dataframe thead th {\n",
              "        text-align: right;\n",
              "    }\n",
              "</style>\n",
              "<table border=\"1\" class=\"dataframe\">\n",
              "  <thead>\n",
              "    <tr style=\"text-align: right;\">\n",
              "      <th></th>\n",
              "      <th>Month</th>\n",
              "      <th>Passengers</th>\n",
              "    </tr>\n",
              "  </thead>\n",
              "  <tbody>\n",
              "    <tr>\n",
              "      <th>0</th>\n",
              "      <td>1949-01</td>\n",
              "      <td>112</td>\n",
              "    </tr>\n",
              "    <tr>\n",
              "      <th>1</th>\n",
              "      <td>1949-02</td>\n",
              "      <td>118</td>\n",
              "    </tr>\n",
              "    <tr>\n",
              "      <th>2</th>\n",
              "      <td>1949-03</td>\n",
              "      <td>132</td>\n",
              "    </tr>\n",
              "    <tr>\n",
              "      <th>3</th>\n",
              "      <td>1949-04</td>\n",
              "      <td>129</td>\n",
              "    </tr>\n",
              "    <tr>\n",
              "      <th>4</th>\n",
              "      <td>1949-05</td>\n",
              "      <td>121</td>\n",
              "    </tr>\n",
              "    <tr>\n",
              "      <th>...</th>\n",
              "      <td>...</td>\n",
              "      <td>...</td>\n",
              "    </tr>\n",
              "    <tr>\n",
              "      <th>139</th>\n",
              "      <td>1960-08</td>\n",
              "      <td>606</td>\n",
              "    </tr>\n",
              "    <tr>\n",
              "      <th>140</th>\n",
              "      <td>1960-09</td>\n",
              "      <td>508</td>\n",
              "    </tr>\n",
              "    <tr>\n",
              "      <th>141</th>\n",
              "      <td>1960-10</td>\n",
              "      <td>461</td>\n",
              "    </tr>\n",
              "    <tr>\n",
              "      <th>142</th>\n",
              "      <td>1960-11</td>\n",
              "      <td>390</td>\n",
              "    </tr>\n",
              "    <tr>\n",
              "      <th>143</th>\n",
              "      <td>1960-12</td>\n",
              "      <td>432</td>\n",
              "    </tr>\n",
              "  </tbody>\n",
              "</table>\n",
              "<p>144 rows × 2 columns</p>\n",
              "</div>"
            ],
            "text/plain": [
              "       Month  Passengers\n",
              "0    1949-01         112\n",
              "1    1949-02         118\n",
              "2    1949-03         132\n",
              "3    1949-04         129\n",
              "4    1949-05         121\n",
              "..       ...         ...\n",
              "139  1960-08         606\n",
              "140  1960-09         508\n",
              "141  1960-10         461\n",
              "142  1960-11         390\n",
              "143  1960-12         432\n",
              "\n",
              "[144 rows x 2 columns]"
            ]
          },
          "metadata": {
            "tags": []
          },
          "execution_count": 88
        }
      ]
    },
    {
      "cell_type": "code",
      "metadata": {
        "id": "IQbJa9bxs7uG"
      },
      "source": [
        "data['Month'] = pd.to_datetime(data['Month'])"
      ],
      "execution_count": 89,
      "outputs": []
    },
    {
      "cell_type": "code",
      "metadata": {
        "colab": {
          "base_uri": "https://localhost:8080/"
        },
        "id": "IeApqhIas7uG",
        "outputId": "b159f01b-3289-4971-a90b-82ec40de15f4"
      },
      "source": [
        "data.info()"
      ],
      "execution_count": 90,
      "outputs": [
        {
          "output_type": "stream",
          "text": [
            "<class 'pandas.core.frame.DataFrame'>\n",
            "RangeIndex: 144 entries, 0 to 143\n",
            "Data columns (total 2 columns):\n",
            " #   Column      Non-Null Count  Dtype         \n",
            "---  ------      --------------  -----         \n",
            " 0   Month       144 non-null    datetime64[ns]\n",
            " 1   Passengers  144 non-null    int64         \n",
            "dtypes: datetime64[ns](1), int64(1)\n",
            "memory usage: 2.4 KB\n"
          ],
          "name": "stdout"
        }
      ]
    },
    {
      "cell_type": "code",
      "metadata": {
        "id": "tCJJmn1ts7uH"
      },
      "source": [
        "data.set_index('Month', inplace=True)"
      ],
      "execution_count": 91,
      "outputs": []
    },
    {
      "cell_type": "code",
      "metadata": {
        "colab": {
          "base_uri": "https://localhost:8080/",
          "height": 446
        },
        "id": "E6Q4boDms7uH",
        "outputId": "5a3ffeb0-9cfe-4165-84ac-03876d0f6105"
      },
      "source": [
        "data"
      ],
      "execution_count": 92,
      "outputs": [
        {
          "output_type": "execute_result",
          "data": {
            "text/html": [
              "<div>\n",
              "<style scoped>\n",
              "    .dataframe tbody tr th:only-of-type {\n",
              "        vertical-align: middle;\n",
              "    }\n",
              "\n",
              "    .dataframe tbody tr th {\n",
              "        vertical-align: top;\n",
              "    }\n",
              "\n",
              "    .dataframe thead th {\n",
              "        text-align: right;\n",
              "    }\n",
              "</style>\n",
              "<table border=\"1\" class=\"dataframe\">\n",
              "  <thead>\n",
              "    <tr style=\"text-align: right;\">\n",
              "      <th></th>\n",
              "      <th>Passengers</th>\n",
              "    </tr>\n",
              "    <tr>\n",
              "      <th>Month</th>\n",
              "      <th></th>\n",
              "    </tr>\n",
              "  </thead>\n",
              "  <tbody>\n",
              "    <tr>\n",
              "      <th>1949-01-01</th>\n",
              "      <td>112</td>\n",
              "    </tr>\n",
              "    <tr>\n",
              "      <th>1949-02-01</th>\n",
              "      <td>118</td>\n",
              "    </tr>\n",
              "    <tr>\n",
              "      <th>1949-03-01</th>\n",
              "      <td>132</td>\n",
              "    </tr>\n",
              "    <tr>\n",
              "      <th>1949-04-01</th>\n",
              "      <td>129</td>\n",
              "    </tr>\n",
              "    <tr>\n",
              "      <th>1949-05-01</th>\n",
              "      <td>121</td>\n",
              "    </tr>\n",
              "    <tr>\n",
              "      <th>...</th>\n",
              "      <td>...</td>\n",
              "    </tr>\n",
              "    <tr>\n",
              "      <th>1960-08-01</th>\n",
              "      <td>606</td>\n",
              "    </tr>\n",
              "    <tr>\n",
              "      <th>1960-09-01</th>\n",
              "      <td>508</td>\n",
              "    </tr>\n",
              "    <tr>\n",
              "      <th>1960-10-01</th>\n",
              "      <td>461</td>\n",
              "    </tr>\n",
              "    <tr>\n",
              "      <th>1960-11-01</th>\n",
              "      <td>390</td>\n",
              "    </tr>\n",
              "    <tr>\n",
              "      <th>1960-12-01</th>\n",
              "      <td>432</td>\n",
              "    </tr>\n",
              "  </tbody>\n",
              "</table>\n",
              "<p>144 rows × 1 columns</p>\n",
              "</div>"
            ],
            "text/plain": [
              "            Passengers\n",
              "Month                 \n",
              "1949-01-01         112\n",
              "1949-02-01         118\n",
              "1949-03-01         132\n",
              "1949-04-01         129\n",
              "1949-05-01         121\n",
              "...                ...\n",
              "1960-08-01         606\n",
              "1960-09-01         508\n",
              "1960-10-01         461\n",
              "1960-11-01         390\n",
              "1960-12-01         432\n",
              "\n",
              "[144 rows x 1 columns]"
            ]
          },
          "metadata": {
            "tags": []
          },
          "execution_count": 92
        }
      ]
    },
    {
      "cell_type": "markdown",
      "metadata": {
        "id": "mpsSYinVs7uH"
      },
      "source": [
        "Fix the random number seed to 0 in numpy for reproducibility. "
      ]
    },
    {
      "cell_type": "code",
      "metadata": {
        "id": "6wxtbPEss7uI"
      },
      "source": [
        "\n",
        "np.random.seed(0)"
      ],
      "execution_count": 93,
      "outputs": []
    },
    {
      "cell_type": "markdown",
      "metadata": {
        "id": "OlGZ9ZLIs7uI"
      },
      "source": [
        "Convert the integer values in the data to ﬂoating point values, which are more suitable for modeling with a neural network."
      ]
    },
    {
      "cell_type": "code",
      "metadata": {
        "id": "Iqkl354us7uI"
      },
      "source": [
        "data['Passengers'] = data['Passengers'].astype(float)"
      ],
      "execution_count": 94,
      "outputs": []
    },
    {
      "cell_type": "code",
      "metadata": {
        "colab": {
          "base_uri": "https://localhost:8080/"
        },
        "id": "cjQ-DnW7s7uI",
        "outputId": "f33bf305-c475-44d2-b571-876adcb41258"
      },
      "source": [
        "data['Passengers']"
      ],
      "execution_count": 95,
      "outputs": [
        {
          "output_type": "execute_result",
          "data": {
            "text/plain": [
              "Month\n",
              "1949-01-01    112.0\n",
              "1949-02-01    118.0\n",
              "1949-03-01    132.0\n",
              "1949-04-01    129.0\n",
              "1949-05-01    121.0\n",
              "              ...  \n",
              "1960-08-01    606.0\n",
              "1960-09-01    508.0\n",
              "1960-10-01    461.0\n",
              "1960-11-01    390.0\n",
              "1960-12-01    432.0\n",
              "Name: Passengers, Length: 144, dtype: float64"
            ]
          },
          "metadata": {
            "tags": []
          },
          "execution_count": 95
        }
      ]
    },
    {
      "cell_type": "markdown",
      "metadata": {
        "id": "WrlfYZ9Ps7uJ"
      },
      "source": [
        " Normalize the data to range (0,1) since LSTMs are sensitive to the scale of the input data, speciﬁcally when the sigmoid or tanh activation functions are used. You can use the MinMaxScaler function in sklearn. \r\n",
        " "
      ]
    },
    {
      "cell_type": "code",
      "metadata": {
        "id": "T4FbsbC0s7uJ"
      },
      "source": [
        "#data_Scaling\n",
        "data['Passengers']\n",
        "from sklearn.preprocessing import MinMaxScaler\n",
        "scaler=MinMaxScaler(feature_range=(0,1))\n",
        "data=scaler.fit_transform(data)"
      ],
      "execution_count": 96,
      "outputs": []
    },
    {
      "cell_type": "code",
      "metadata": {
        "colab": {
          "base_uri": "https://localhost:8080/"
        },
        "id": "JMMbBt46s7uJ",
        "outputId": "8d6cbcc8-6b99-4ecc-8194-12febf573f17"
      },
      "source": [
        "data"
      ],
      "execution_count": 97,
      "outputs": [
        {
          "output_type": "execute_result",
          "data": {
            "text/plain": [
              "array([[0.01544402],\n",
              "       [0.02702703],\n",
              "       [0.05405405],\n",
              "       [0.04826255],\n",
              "       [0.03281853],\n",
              "       [0.05984556],\n",
              "       [0.08494208],\n",
              "       [0.08494208],\n",
              "       [0.06177606],\n",
              "       [0.02895753],\n",
              "       [0.        ],\n",
              "       [0.02702703],\n",
              "       [0.02123552],\n",
              "       [0.04247104],\n",
              "       [0.07142857],\n",
              "       [0.05984556],\n",
              "       [0.04054054],\n",
              "       [0.08687259],\n",
              "       [0.12741313],\n",
              "       [0.12741313],\n",
              "       [0.1042471 ],\n",
              "       [0.05598456],\n",
              "       [0.01930502],\n",
              "       [0.06949807],\n",
              "       [0.07915058],\n",
              "       [0.08880309],\n",
              "       [0.14285714],\n",
              "       [0.11389961],\n",
              "       [0.13127413],\n",
              "       [0.14285714],\n",
              "       [0.18339768],\n",
              "       [0.18339768],\n",
              "       [0.15444015],\n",
              "       [0.11196911],\n",
              "       [0.08108108],\n",
              "       [0.11969112],\n",
              "       [0.12934363],\n",
              "       [0.14671815],\n",
              "       [0.17181467],\n",
              "       [0.14864865],\n",
              "       [0.15250965],\n",
              "       [0.22007722],\n",
              "       [0.24324324],\n",
              "       [0.26640927],\n",
              "       [0.2027027 ],\n",
              "       [0.16795367],\n",
              "       [0.13127413],\n",
              "       [0.17374517],\n",
              "       [0.17760618],\n",
              "       [0.17760618],\n",
              "       [0.25482625],\n",
              "       [0.25289575],\n",
              "       [0.24131274],\n",
              "       [0.26833977],\n",
              "       [0.30888031],\n",
              "       [0.32432432],\n",
              "       [0.25675676],\n",
              "       [0.20656371],\n",
              "       [0.14671815],\n",
              "       [0.18725869],\n",
              "       [0.19305019],\n",
              "       [0.16216216],\n",
              "       [0.25289575],\n",
              "       [0.23745174],\n",
              "       [0.25096525],\n",
              "       [0.30888031],\n",
              "       [0.38223938],\n",
              "       [0.36486486],\n",
              "       [0.2992278 ],\n",
              "       [0.24131274],\n",
              "       [0.19111969],\n",
              "       [0.24131274],\n",
              "       [0.26640927],\n",
              "       [0.24903475],\n",
              "       [0.31467181],\n",
              "       [0.31853282],\n",
              "       [0.32046332],\n",
              "       [0.40733591],\n",
              "       [0.5019305 ],\n",
              "       [0.46911197],\n",
              "       [0.4015444 ],\n",
              "       [0.32818533],\n",
              "       [0.25675676],\n",
              "       [0.33590734],\n",
              "       [0.34749035],\n",
              "       [0.33397683],\n",
              "       [0.41119691],\n",
              "       [0.4034749 ],\n",
              "       [0.41312741],\n",
              "       [0.52123552],\n",
              "       [0.5965251 ],\n",
              "       [0.58108108],\n",
              "       [0.48455598],\n",
              "       [0.38996139],\n",
              "       [0.32239382],\n",
              "       [0.38996139],\n",
              "       [0.40733591],\n",
              "       [0.38030888],\n",
              "       [0.48648649],\n",
              "       [0.47104247],\n",
              "       [0.48455598],\n",
              "       [0.61389961],\n",
              "       [0.6969112 ],\n",
              "       [0.7007722 ],\n",
              "       [0.57915058],\n",
              "       [0.46911197],\n",
              "       [0.38803089],\n",
              "       [0.44787645],\n",
              "       [0.45559846],\n",
              "       [0.41312741],\n",
              "       [0.4980695 ],\n",
              "       [0.47104247],\n",
              "       [0.5       ],\n",
              "       [0.63899614],\n",
              "       [0.74710425],\n",
              "       [0.77413127],\n",
              "       [0.57915058],\n",
              "       [0.49227799],\n",
              "       [0.3976834 ],\n",
              "       [0.44980695],\n",
              "       [0.49420849],\n",
              "       [0.45945946],\n",
              "       [0.58301158],\n",
              "       [0.56370656],\n",
              "       [0.61003861],\n",
              "       [0.71042471],\n",
              "       [0.85714286],\n",
              "       [0.87837838],\n",
              "       [0.69305019],\n",
              "       [0.58494208],\n",
              "       [0.4980695 ],\n",
              "       [0.58108108],\n",
              "       [0.6042471 ],\n",
              "       [0.55405405],\n",
              "       [0.60810811],\n",
              "       [0.68918919],\n",
              "       [0.71042471],\n",
              "       [0.83204633],\n",
              "       [1.        ],\n",
              "       [0.96911197],\n",
              "       [0.77992278],\n",
              "       [0.68918919],\n",
              "       [0.55212355],\n",
              "       [0.63320463]])"
            ]
          },
          "metadata": {
            "tags": []
          },
          "execution_count": 97
        }
      ]
    },
    {
      "cell_type": "markdown",
      "metadata": {
        "id": "7VGn47vRs7uK"
      },
      "source": [
        "Split the ﬁrst 67% of the data as training data and the remaining 33% as testing data."
      ]
    },
    {
      "cell_type": "code",
      "metadata": {
        "id": "1gEkcmces7uK"
      },
      "source": [
        "#Creating train and test partition\n",
        "train = int(len(data)*0.67)\n",
        "test = len(data)-train\n",
        "\n",
        "train\n",
        "\n",
        "test\n",
        "\n",
        "train_data,test_data=data[0:train,:],data[train:len(data),:1]"
      ],
      "execution_count": 98,
      "outputs": []
    },
    {
      "cell_type": "markdown",
      "metadata": {
        "id": "43dWGaaEs7uK"
      },
      "source": [
        "Obtain the two-column input-output dataset to be used in LSTM, where the ﬁrst column is the input (number of passengers in the current month) for each instance (i.e., each row), and the second column is the output (number of passengers next month). In this dataset, the values in the ﬁrst column will be the same as the values in the second column of previous row."
      ]
    },
    {
      "cell_type": "code",
      "metadata": {
        "id": "pZF_pFWGs7uK"
      },
      "source": [
        "# converting an array of values into a dataset matrix\n",
        "def create_dataset(dataset, time_step=1):\n",
        "\tdataX, dataY = [], []\n",
        "\tfor i in range(len(dataset)-time_step-1):\n",
        "\t\ta = dataset[i:(i+time_step), 0]   ###i=0, 0,1\n",
        "\t\tdataX.append(a)\n",
        "\t\tdataY.append(dataset[i + time_step, 0])\n",
        "\treturn np.array(dataX), np.array(dataY)"
      ],
      "execution_count": 99,
      "outputs": []
    },
    {
      "cell_type": "markdown",
      "metadata": {
        "id": "6l--jmXIs7uK"
      },
      "source": [
        "Reshape the input data to be in the [samples, time steps, features] format, which LSTM network expects. The time step will be 1 with this dataset since each monthly sample represents a unit time step. You can use the\n",
        "1\n",
        "reshape function in numpy with (Xtrain.shape[0], 1, Xtrain.shape[1]) as the new size, where Xtrain is the training input data. Apply the same reshaping to the test data Xtest. "
      ]
    },
    {
      "cell_type": "code",
      "metadata": {
        "colab": {
          "base_uri": "https://localhost:8080/"
        },
        "id": "uiTmlPYSs7uL",
        "outputId": "8c0eb65a-351f-4056-bb46-725845691ef5"
      },
      "source": [
        "# reshape into X=t and Y=t+1\n",
        "time_step = 3\n",
        "X_train, y_train = create_dataset(train_data, time_step)\n",
        "X_test, y_test = create_dataset(test_data, time_step)\n",
        "X_train"
      ],
      "execution_count": 100,
      "outputs": [
        {
          "output_type": "execute_result",
          "data": {
            "text/plain": [
              "array([[0.01544402, 0.02702703, 0.05405405],\n",
              "       [0.02702703, 0.05405405, 0.04826255],\n",
              "       [0.05405405, 0.04826255, 0.03281853],\n",
              "       [0.04826255, 0.03281853, 0.05984556],\n",
              "       [0.03281853, 0.05984556, 0.08494208],\n",
              "       [0.05984556, 0.08494208, 0.08494208],\n",
              "       [0.08494208, 0.08494208, 0.06177606],\n",
              "       [0.08494208, 0.06177606, 0.02895753],\n",
              "       [0.06177606, 0.02895753, 0.        ],\n",
              "       [0.02895753, 0.        , 0.02702703],\n",
              "       [0.        , 0.02702703, 0.02123552],\n",
              "       [0.02702703, 0.02123552, 0.04247104],\n",
              "       [0.02123552, 0.04247104, 0.07142857],\n",
              "       [0.04247104, 0.07142857, 0.05984556],\n",
              "       [0.07142857, 0.05984556, 0.04054054],\n",
              "       [0.05984556, 0.04054054, 0.08687259],\n",
              "       [0.04054054, 0.08687259, 0.12741313],\n",
              "       [0.08687259, 0.12741313, 0.12741313],\n",
              "       [0.12741313, 0.12741313, 0.1042471 ],\n",
              "       [0.12741313, 0.1042471 , 0.05598456],\n",
              "       [0.1042471 , 0.05598456, 0.01930502],\n",
              "       [0.05598456, 0.01930502, 0.06949807],\n",
              "       [0.01930502, 0.06949807, 0.07915058],\n",
              "       [0.06949807, 0.07915058, 0.08880309],\n",
              "       [0.07915058, 0.08880309, 0.14285714],\n",
              "       [0.08880309, 0.14285714, 0.11389961],\n",
              "       [0.14285714, 0.11389961, 0.13127413],\n",
              "       [0.11389961, 0.13127413, 0.14285714],\n",
              "       [0.13127413, 0.14285714, 0.18339768],\n",
              "       [0.14285714, 0.18339768, 0.18339768],\n",
              "       [0.18339768, 0.18339768, 0.15444015],\n",
              "       [0.18339768, 0.15444015, 0.11196911],\n",
              "       [0.15444015, 0.11196911, 0.08108108],\n",
              "       [0.11196911, 0.08108108, 0.11969112],\n",
              "       [0.08108108, 0.11969112, 0.12934363],\n",
              "       [0.11969112, 0.12934363, 0.14671815],\n",
              "       [0.12934363, 0.14671815, 0.17181467],\n",
              "       [0.14671815, 0.17181467, 0.14864865],\n",
              "       [0.17181467, 0.14864865, 0.15250965],\n",
              "       [0.14864865, 0.15250965, 0.22007722],\n",
              "       [0.15250965, 0.22007722, 0.24324324],\n",
              "       [0.22007722, 0.24324324, 0.26640927],\n",
              "       [0.24324324, 0.26640927, 0.2027027 ],\n",
              "       [0.26640927, 0.2027027 , 0.16795367],\n",
              "       [0.2027027 , 0.16795367, 0.13127413],\n",
              "       [0.16795367, 0.13127413, 0.17374517],\n",
              "       [0.13127413, 0.17374517, 0.17760618],\n",
              "       [0.17374517, 0.17760618, 0.17760618],\n",
              "       [0.17760618, 0.17760618, 0.25482625],\n",
              "       [0.17760618, 0.25482625, 0.25289575],\n",
              "       [0.25482625, 0.25289575, 0.24131274],\n",
              "       [0.25289575, 0.24131274, 0.26833977],\n",
              "       [0.24131274, 0.26833977, 0.30888031],\n",
              "       [0.26833977, 0.30888031, 0.32432432],\n",
              "       [0.30888031, 0.32432432, 0.25675676],\n",
              "       [0.32432432, 0.25675676, 0.20656371],\n",
              "       [0.25675676, 0.20656371, 0.14671815],\n",
              "       [0.20656371, 0.14671815, 0.18725869],\n",
              "       [0.14671815, 0.18725869, 0.19305019],\n",
              "       [0.18725869, 0.19305019, 0.16216216],\n",
              "       [0.19305019, 0.16216216, 0.25289575],\n",
              "       [0.16216216, 0.25289575, 0.23745174],\n",
              "       [0.25289575, 0.23745174, 0.25096525],\n",
              "       [0.23745174, 0.25096525, 0.30888031],\n",
              "       [0.25096525, 0.30888031, 0.38223938],\n",
              "       [0.30888031, 0.38223938, 0.36486486],\n",
              "       [0.38223938, 0.36486486, 0.2992278 ],\n",
              "       [0.36486486, 0.2992278 , 0.24131274],\n",
              "       [0.2992278 , 0.24131274, 0.19111969],\n",
              "       [0.24131274, 0.19111969, 0.24131274],\n",
              "       [0.19111969, 0.24131274, 0.26640927],\n",
              "       [0.24131274, 0.26640927, 0.24903475],\n",
              "       [0.26640927, 0.24903475, 0.31467181],\n",
              "       [0.24903475, 0.31467181, 0.31853282],\n",
              "       [0.31467181, 0.31853282, 0.32046332],\n",
              "       [0.31853282, 0.32046332, 0.40733591],\n",
              "       [0.32046332, 0.40733591, 0.5019305 ],\n",
              "       [0.40733591, 0.5019305 , 0.46911197],\n",
              "       [0.5019305 , 0.46911197, 0.4015444 ],\n",
              "       [0.46911197, 0.4015444 , 0.32818533],\n",
              "       [0.4015444 , 0.32818533, 0.25675676],\n",
              "       [0.32818533, 0.25675676, 0.33590734],\n",
              "       [0.25675676, 0.33590734, 0.34749035],\n",
              "       [0.33590734, 0.34749035, 0.33397683],\n",
              "       [0.34749035, 0.33397683, 0.41119691],\n",
              "       [0.33397683, 0.41119691, 0.4034749 ],\n",
              "       [0.41119691, 0.4034749 , 0.41312741],\n",
              "       [0.4034749 , 0.41312741, 0.52123552],\n",
              "       [0.41312741, 0.52123552, 0.5965251 ],\n",
              "       [0.52123552, 0.5965251 , 0.58108108],\n",
              "       [0.5965251 , 0.58108108, 0.48455598],\n",
              "       [0.58108108, 0.48455598, 0.38996139]])"
            ]
          },
          "metadata": {
            "tags": []
          },
          "execution_count": 100
        }
      ]
    },
    {
      "cell_type": "code",
      "metadata": {
        "colab": {
          "base_uri": "https://localhost:8080/"
        },
        "id": "Qj2Oqj3es7uL",
        "outputId": "a840ec15-ae4f-42c4-d190-05f06e2a4031"
      },
      "source": [
        "y_train"
      ],
      "execution_count": 101,
      "outputs": [
        {
          "output_type": "execute_result",
          "data": {
            "text/plain": [
              "array([0.04826255, 0.03281853, 0.05984556, 0.08494208, 0.08494208,\n",
              "       0.06177606, 0.02895753, 0.        , 0.02702703, 0.02123552,\n",
              "       0.04247104, 0.07142857, 0.05984556, 0.04054054, 0.08687259,\n",
              "       0.12741313, 0.12741313, 0.1042471 , 0.05598456, 0.01930502,\n",
              "       0.06949807, 0.07915058, 0.08880309, 0.14285714, 0.11389961,\n",
              "       0.13127413, 0.14285714, 0.18339768, 0.18339768, 0.15444015,\n",
              "       0.11196911, 0.08108108, 0.11969112, 0.12934363, 0.14671815,\n",
              "       0.17181467, 0.14864865, 0.15250965, 0.22007722, 0.24324324,\n",
              "       0.26640927, 0.2027027 , 0.16795367, 0.13127413, 0.17374517,\n",
              "       0.17760618, 0.17760618, 0.25482625, 0.25289575, 0.24131274,\n",
              "       0.26833977, 0.30888031, 0.32432432, 0.25675676, 0.20656371,\n",
              "       0.14671815, 0.18725869, 0.19305019, 0.16216216, 0.25289575,\n",
              "       0.23745174, 0.25096525, 0.30888031, 0.38223938, 0.36486486,\n",
              "       0.2992278 , 0.24131274, 0.19111969, 0.24131274, 0.26640927,\n",
              "       0.24903475, 0.31467181, 0.31853282, 0.32046332, 0.40733591,\n",
              "       0.5019305 , 0.46911197, 0.4015444 , 0.32818533, 0.25675676,\n",
              "       0.33590734, 0.34749035, 0.33397683, 0.41119691, 0.4034749 ,\n",
              "       0.41312741, 0.52123552, 0.5965251 , 0.58108108, 0.48455598,\n",
              "       0.38996139, 0.32239382])"
            ]
          },
          "metadata": {
            "tags": []
          },
          "execution_count": 101
        }
      ]
    },
    {
      "cell_type": "code",
      "metadata": {
        "colab": {
          "base_uri": "https://localhost:8080/"
        },
        "id": "dhIAqFGKs7uL",
        "outputId": "b4064522-5a43-4944-9739-8b7c041a47e2"
      },
      "source": [
        "X_train.shape, y_train.shape\n"
      ],
      "execution_count": 102,
      "outputs": [
        {
          "output_type": "execute_result",
          "data": {
            "text/plain": [
              "((92, 3), (92,))"
            ]
          },
          "metadata": {
            "tags": []
          },
          "execution_count": 102
        }
      ]
    },
    {
      "cell_type": "code",
      "metadata": {
        "colab": {
          "base_uri": "https://localhost:8080/"
        },
        "id": "rzybCHBYs7uM",
        "outputId": "0b8b02b2-8795-4f56-8005-3e5f0afeb879"
      },
      "source": [
        "# reshape input to be [sample, time steps, features] which is required for LSTM\n",
        "X_train =X_train.reshape(X_train.shape[0], 3, 1)\n",
        "X_test = X_test.reshape(X_test.shape[0], 3, 1 )\n",
        "\n",
        "X_train.shape"
      ],
      "execution_count": 103,
      "outputs": [
        {
          "output_type": "execute_result",
          "data": {
            "text/plain": [
              "(92, 3, 1)"
            ]
          },
          "metadata": {
            "tags": []
          },
          "execution_count": 103
        }
      ]
    },
    {
      "cell_type": "code",
      "metadata": {
        "colab": {
          "base_uri": "https://localhost:8080/"
        },
        "id": "BOBYi8e9s7uM",
        "outputId": "e1e8d50c-e91d-4157-f3b3-eafb7e86e9fd"
      },
      "source": [
        "y_train.shape"
      ],
      "execution_count": 104,
      "outputs": [
        {
          "output_type": "execute_result",
          "data": {
            "text/plain": [
              "(92,)"
            ]
          },
          "metadata": {
            "tags": []
          },
          "execution_count": 104
        }
      ]
    },
    {
      "cell_type": "markdown",
      "metadata": {
        "id": "sxMzwEIDs7uM"
      },
      "source": [
        "Build the LSTM network with a hidden layer of 4 neurons, and an output layer with a single neuron. Use sigmoid activation function in the hidden layer, 100 epochs, batch size of 1, “adam” optimizer, and mean-squarederror loss"
      ]
    },
    {
      "cell_type": "code",
      "metadata": {
        "colab": {
          "base_uri": "https://localhost:8080/"
        },
        "id": "slwBVE1Bs7uM",
        "outputId": "e5e6da77-21aa-4c9c-c0a5-797f379c735f"
      },
      "source": [
        "import tensorflow \n",
        "from tensorflow.keras.models import Sequential\n",
        "from tensorflow.compat.v1.keras.layers import Dense,CuDNNLSTM, LSTM\n",
        "from sklearn.preprocessing import MinMaxScaler\n",
        "from sklearn.metrics import mean_squared_error\n",
        "import math \n",
        "\n",
        "\n",
        "model=Sequential()\n",
        "#model.add(LSTM(4, input_dim=1))\n",
        "model.add(LSTM(50,return_sequences=True,input_shape=(3,1)))#INPUT\n",
        "model.add(LSTM(4))#HIDDEN layer\n",
        "model.add(Dense(1))#outputlayer\n",
        "model.compile(loss='mean_squared_error',optimizer='adam')\n",
        "model.fit(X_train,y_train,validation_data=(X_test,y_test),epochs=100,batch_size=1,verbose=1)"
      ],
      "execution_count": 105,
      "outputs": [
        {
          "output_type": "stream",
          "text": [
            "Epoch 1/100\n",
            "92/92 [==============================] - 1s 11ms/step - loss: 0.0262 - val_loss: 0.0887\n",
            "Epoch 2/100\n",
            "92/92 [==============================] - 0s 5ms/step - loss: 0.0091 - val_loss: 0.0528\n",
            "Epoch 3/100\n",
            "92/92 [==============================] - 0s 5ms/step - loss: 0.0067 - val_loss: 0.0376\n",
            "Epoch 4/100\n",
            "92/92 [==============================] - 0s 5ms/step - loss: 0.0055 - val_loss: 0.0231\n",
            "Epoch 5/100\n",
            "92/92 [==============================] - 0s 5ms/step - loss: 0.0058 - val_loss: 0.0318\n",
            "Epoch 6/100\n",
            "92/92 [==============================] - 0s 5ms/step - loss: 0.0058 - val_loss: 0.0270\n",
            "Epoch 7/100\n",
            "92/92 [==============================] - 0s 5ms/step - loss: 0.0053 - val_loss: 0.0223\n",
            "Epoch 8/100\n",
            "92/92 [==============================] - 0s 5ms/step - loss: 0.0052 - val_loss: 0.0297\n",
            "Epoch 9/100\n",
            "92/92 [==============================] - 0s 5ms/step - loss: 0.0059 - val_loss: 0.0288\n",
            "Epoch 10/100\n",
            "92/92 [==============================] - 0s 5ms/step - loss: 0.0054 - val_loss: 0.0323\n",
            "Epoch 11/100\n",
            "92/92 [==============================] - 0s 5ms/step - loss: 0.0050 - val_loss: 0.0296\n",
            "Epoch 12/100\n",
            "92/92 [==============================] - 0s 5ms/step - loss: 0.0054 - val_loss: 0.0254\n",
            "Epoch 13/100\n",
            "92/92 [==============================] - 0s 5ms/step - loss: 0.0050 - val_loss: 0.0200\n",
            "Epoch 14/100\n",
            "92/92 [==============================] - 0s 5ms/step - loss: 0.0052 - val_loss: 0.0213\n",
            "Epoch 15/100\n",
            "92/92 [==============================] - 0s 5ms/step - loss: 0.0049 - val_loss: 0.0394\n",
            "Epoch 16/100\n",
            "92/92 [==============================] - 0s 5ms/step - loss: 0.0048 - val_loss: 0.0238\n",
            "Epoch 17/100\n",
            "92/92 [==============================] - 0s 5ms/step - loss: 0.0047 - val_loss: 0.0259\n",
            "Epoch 18/100\n",
            "92/92 [==============================] - 0s 5ms/step - loss: 0.0047 - val_loss: 0.0208\n",
            "Epoch 19/100\n",
            "92/92 [==============================] - 0s 5ms/step - loss: 0.0051 - val_loss: 0.0251\n",
            "Epoch 20/100\n",
            "92/92 [==============================] - 0s 5ms/step - loss: 0.0046 - val_loss: 0.0291\n",
            "Epoch 21/100\n",
            "92/92 [==============================] - 0s 5ms/step - loss: 0.0045 - val_loss: 0.0208\n",
            "Epoch 22/100\n",
            "92/92 [==============================] - 0s 5ms/step - loss: 0.0040 - val_loss: 0.0327\n",
            "Epoch 23/100\n",
            "92/92 [==============================] - 0s 5ms/step - loss: 0.0050 - val_loss: 0.0364\n",
            "Epoch 24/100\n",
            "92/92 [==============================] - 0s 5ms/step - loss: 0.0044 - val_loss: 0.0260\n",
            "Epoch 25/100\n",
            "92/92 [==============================] - 0s 5ms/step - loss: 0.0045 - val_loss: 0.0272\n",
            "Epoch 26/100\n",
            "92/92 [==============================] - 0s 5ms/step - loss: 0.0042 - val_loss: 0.0234\n",
            "Epoch 27/100\n",
            "92/92 [==============================] - 0s 5ms/step - loss: 0.0045 - val_loss: 0.0232\n",
            "Epoch 28/100\n",
            "92/92 [==============================] - 0s 5ms/step - loss: 0.0043 - val_loss: 0.0261\n",
            "Epoch 29/100\n",
            "92/92 [==============================] - 0s 5ms/step - loss: 0.0043 - val_loss: 0.0325\n",
            "Epoch 30/100\n",
            "92/92 [==============================] - 0s 5ms/step - loss: 0.0040 - val_loss: 0.0245\n",
            "Epoch 31/100\n",
            "92/92 [==============================] - 0s 5ms/step - loss: 0.0044 - val_loss: 0.0357\n",
            "Epoch 32/100\n",
            "92/92 [==============================] - 0s 5ms/step - loss: 0.0041 - val_loss: 0.0271\n",
            "Epoch 33/100\n",
            "92/92 [==============================] - 0s 5ms/step - loss: 0.0037 - val_loss: 0.0312\n",
            "Epoch 34/100\n",
            "92/92 [==============================] - 0s 5ms/step - loss: 0.0038 - val_loss: 0.0261\n",
            "Epoch 35/100\n",
            "92/92 [==============================] - 0s 5ms/step - loss: 0.0036 - val_loss: 0.0261\n",
            "Epoch 36/100\n",
            "92/92 [==============================] - 0s 5ms/step - loss: 0.0034 - val_loss: 0.0393\n",
            "Epoch 37/100\n",
            "92/92 [==============================] - 0s 5ms/step - loss: 0.0034 - val_loss: 0.0322\n",
            "Epoch 38/100\n",
            "92/92 [==============================] - 0s 5ms/step - loss: 0.0033 - val_loss: 0.0265\n",
            "Epoch 39/100\n",
            "92/92 [==============================] - 0s 5ms/step - loss: 0.0032 - val_loss: 0.0423\n",
            "Epoch 40/100\n",
            "92/92 [==============================] - 0s 5ms/step - loss: 0.0033 - val_loss: 0.0371\n",
            "Epoch 41/100\n",
            "92/92 [==============================] - 0s 5ms/step - loss: 0.0029 - val_loss: 0.0444\n",
            "Epoch 42/100\n",
            "92/92 [==============================] - 0s 5ms/step - loss: 0.0028 - val_loss: 0.0336\n",
            "Epoch 43/100\n",
            "92/92 [==============================] - 0s 5ms/step - loss: 0.0029 - val_loss: 0.0534\n",
            "Epoch 44/100\n",
            "92/92 [==============================] - 0s 5ms/step - loss: 0.0028 - val_loss: 0.0399\n",
            "Epoch 45/100\n",
            "92/92 [==============================] - 0s 5ms/step - loss: 0.0024 - val_loss: 0.0568\n",
            "Epoch 46/100\n",
            "92/92 [==============================] - 0s 5ms/step - loss: 0.0026 - val_loss: 0.0673\n",
            "Epoch 47/100\n",
            "92/92 [==============================] - 0s 5ms/step - loss: 0.0024 - val_loss: 0.0441\n",
            "Epoch 48/100\n",
            "92/92 [==============================] - 0s 5ms/step - loss: 0.0024 - val_loss: 0.0368\n",
            "Epoch 49/100\n",
            "92/92 [==============================] - 0s 5ms/step - loss: 0.0024 - val_loss: 0.0426\n",
            "Epoch 50/100\n",
            "92/92 [==============================] - 0s 5ms/step - loss: 0.0023 - val_loss: 0.0347\n",
            "Epoch 51/100\n",
            "92/92 [==============================] - 0s 5ms/step - loss: 0.0020 - val_loss: 0.0571\n",
            "Epoch 52/100\n",
            "92/92 [==============================] - 0s 5ms/step - loss: 0.0023 - val_loss: 0.0547\n",
            "Epoch 53/100\n",
            "92/92 [==============================] - 0s 5ms/step - loss: 0.0022 - val_loss: 0.0308\n",
            "Epoch 54/100\n",
            "92/92 [==============================] - 0s 5ms/step - loss: 0.0024 - val_loss: 0.0281\n",
            "Epoch 55/100\n",
            "92/92 [==============================] - 0s 5ms/step - loss: 0.0021 - val_loss: 0.0287\n",
            "Epoch 56/100\n",
            "92/92 [==============================] - 0s 5ms/step - loss: 0.0023 - val_loss: 0.0335\n",
            "Epoch 57/100\n",
            "92/92 [==============================] - 0s 5ms/step - loss: 0.0022 - val_loss: 0.0308\n",
            "Epoch 58/100\n",
            "92/92 [==============================] - 0s 5ms/step - loss: 0.0021 - val_loss: 0.0509\n",
            "Epoch 59/100\n",
            "92/92 [==============================] - 0s 5ms/step - loss: 0.0022 - val_loss: 0.0261\n",
            "Epoch 60/100\n",
            "92/92 [==============================] - 0s 5ms/step - loss: 0.0024 - val_loss: 0.0354\n",
            "Epoch 61/100\n",
            "92/92 [==============================] - 0s 5ms/step - loss: 0.0021 - val_loss: 0.0233\n",
            "Epoch 62/100\n",
            "92/92 [==============================] - 0s 5ms/step - loss: 0.0020 - val_loss: 0.0124\n",
            "Epoch 63/100\n",
            "92/92 [==============================] - 0s 5ms/step - loss: 0.0020 - val_loss: 0.0306\n",
            "Epoch 64/100\n",
            "92/92 [==============================] - 0s 5ms/step - loss: 0.0020 - val_loss: 0.0164\n",
            "Epoch 65/100\n",
            "92/92 [==============================] - 0s 5ms/step - loss: 0.0018 - val_loss: 0.0142\n",
            "Epoch 66/100\n",
            "92/92 [==============================] - 0s 5ms/step - loss: 0.0020 - val_loss: 0.0227\n",
            "Epoch 67/100\n",
            "92/92 [==============================] - 0s 5ms/step - loss: 0.0018 - val_loss: 0.0081\n",
            "Epoch 68/100\n",
            "92/92 [==============================] - 0s 5ms/step - loss: 0.0018 - val_loss: 0.0325\n",
            "Epoch 69/100\n",
            "92/92 [==============================] - 0s 5ms/step - loss: 0.0018 - val_loss: 0.0296\n",
            "Epoch 70/100\n",
            "92/92 [==============================] - 0s 5ms/step - loss: 0.0018 - val_loss: 0.0306\n",
            "Epoch 71/100\n",
            "92/92 [==============================] - 0s 5ms/step - loss: 0.0020 - val_loss: 0.0129\n",
            "Epoch 72/100\n",
            "92/92 [==============================] - 0s 5ms/step - loss: 0.0021 - val_loss: 0.0281\n",
            "Epoch 73/100\n",
            "92/92 [==============================] - 0s 5ms/step - loss: 0.0019 - val_loss: 0.0197\n",
            "Epoch 74/100\n",
            "92/92 [==============================] - 0s 5ms/step - loss: 0.0016 - val_loss: 0.0131\n",
            "Epoch 75/100\n",
            "92/92 [==============================] - 0s 5ms/step - loss: 0.0019 - val_loss: 0.0080\n",
            "Epoch 76/100\n",
            "92/92 [==============================] - 0s 5ms/step - loss: 0.0018 - val_loss: 0.0127\n",
            "Epoch 77/100\n",
            "92/92 [==============================] - 0s 5ms/step - loss: 0.0020 - val_loss: 0.0219\n",
            "Epoch 78/100\n",
            "92/92 [==============================] - 0s 5ms/step - loss: 0.0019 - val_loss: 0.0130\n",
            "Epoch 79/100\n",
            "92/92 [==============================] - 0s 5ms/step - loss: 0.0017 - val_loss: 0.0149\n",
            "Epoch 80/100\n",
            "92/92 [==============================] - 0s 5ms/step - loss: 0.0018 - val_loss: 0.0090\n",
            "Epoch 81/100\n",
            "92/92 [==============================] - 0s 5ms/step - loss: 0.0020 - val_loss: 0.0203\n",
            "Epoch 82/100\n",
            "92/92 [==============================] - 0s 5ms/step - loss: 0.0020 - val_loss: 0.0137\n",
            "Epoch 83/100\n",
            "92/92 [==============================] - 0s 5ms/step - loss: 0.0017 - val_loss: 0.0134\n",
            "Epoch 84/100\n",
            "92/92 [==============================] - 0s 5ms/step - loss: 0.0019 - val_loss: 0.0129\n",
            "Epoch 85/100\n",
            "92/92 [==============================] - 0s 5ms/step - loss: 0.0019 - val_loss: 0.0107\n",
            "Epoch 86/100\n",
            "92/92 [==============================] - 0s 5ms/step - loss: 0.0019 - val_loss: 0.0140\n",
            "Epoch 87/100\n",
            "92/92 [==============================] - 0s 5ms/step - loss: 0.0017 - val_loss: 0.0098\n",
            "Epoch 88/100\n",
            "92/92 [==============================] - 0s 5ms/step - loss: 0.0019 - val_loss: 0.0159\n",
            "Epoch 89/100\n",
            "92/92 [==============================] - 0s 5ms/step - loss: 0.0019 - val_loss: 0.0150\n",
            "Epoch 90/100\n",
            "92/92 [==============================] - 0s 5ms/step - loss: 0.0017 - val_loss: 0.0172\n",
            "Epoch 91/100\n",
            "92/92 [==============================] - 0s 5ms/step - loss: 0.0017 - val_loss: 0.0126\n",
            "Epoch 92/100\n",
            "92/92 [==============================] - 0s 5ms/step - loss: 0.0018 - val_loss: 0.0132\n",
            "Epoch 93/100\n",
            "92/92 [==============================] - 0s 5ms/step - loss: 0.0018 - val_loss: 0.0090\n",
            "Epoch 94/100\n",
            "92/92 [==============================] - 0s 5ms/step - loss: 0.0020 - val_loss: 0.0104\n",
            "Epoch 95/100\n",
            "92/92 [==============================] - 0s 5ms/step - loss: 0.0017 - val_loss: 0.0160\n",
            "Epoch 96/100\n",
            "92/92 [==============================] - 0s 5ms/step - loss: 0.0019 - val_loss: 0.0128\n",
            "Epoch 97/100\n",
            "92/92 [==============================] - 0s 5ms/step - loss: 0.0018 - val_loss: 0.0246\n",
            "Epoch 98/100\n",
            "92/92 [==============================] - 0s 5ms/step - loss: 0.0018 - val_loss: 0.0215\n",
            "Epoch 99/100\n",
            "92/92 [==============================] - 0s 5ms/step - loss: 0.0018 - val_loss: 0.0159\n",
            "Epoch 100/100\n",
            "92/92 [==============================] - 0s 5ms/step - loss: 0.0017 - val_loss: 0.0185\n"
          ],
          "name": "stdout"
        },
        {
          "output_type": "execute_result",
          "data": {
            "text/plain": [
              "<tensorflow.python.keras.callbacks.History at 0x7f2978fd05c0>"
            ]
          },
          "metadata": {
            "tags": []
          },
          "execution_count": 105
        }
      ]
    },
    {
      "cell_type": "code",
      "metadata": {
        "colab": {
          "base_uri": "https://localhost:8080/"
        },
        "id": "07Jgnmios7uN",
        "outputId": "2dcd3931-e0d7-40b2-f398-bc3248c2c320"
      },
      "source": [
        "X_train.shape, y_train.shape"
      ],
      "execution_count": 106,
      "outputs": [
        {
          "output_type": "execute_result",
          "data": {
            "text/plain": [
              "((92, 3, 1), (92,))"
            ]
          },
          "metadata": {
            "tags": []
          },
          "execution_count": 106
        }
      ]
    },
    {
      "cell_type": "markdown",
      "metadata": {
        "id": "cih4PUKFusc4"
      },
      "source": [
        " Predict the next month’s number of passengers and invert the predictions using the “inverse-transform” attribute of MinMaxScaler to go back to the original unit (thousands of passengers per month). "
      ]
    },
    {
      "cell_type": "code",
      "metadata": {
        "id": "_rPskzgps7uN"
      },
      "source": [
        "#Model Prediction\n",
        "train_predict=model.predict(X_train)\n",
        "test_predict=model.predict(X_test)\n",
        "\n"
      ],
      "execution_count": 107,
      "outputs": []
    },
    {
      "cell_type": "code",
      "metadata": {
        "id": "6CBE4Bo0s7uN"
      },
      "source": [
        "#Transforming data back to original form\n",
        "train_predict=scaler.inverse_transform(train_predict)\n",
        "y_train = scaler.inverse_transform([y_train])\n",
        "test_predict=scaler.inverse_transform(test_predict)\n",
        "y_test = scaler.inverse_transform([y_test])\n",
        "\n"
      ],
      "execution_count": 108,
      "outputs": []
    },
    {
      "cell_type": "markdown",
      "metadata": {
        "id": "Wj-Kjpluvary"
      },
      "source": [
        "Calculate and print the root-mean-squared-error (RMSE) in training and test data. "
      ]
    },
    {
      "cell_type": "code",
      "metadata": {
        "colab": {
          "base_uri": "https://localhost:8080/"
        },
        "id": "2rgCIlM0s7uO",
        "outputId": "0d4694fc-eacd-41a0-a43b-b344b76d904f"
      },
      "source": [
        "# calculate root mean squared error\n",
        "trainScore = math.sqrt(mean_squared_error(y_train[0], train_predict[:,0]))\n",
        "print('Train Score: %.2f RMSE' % (trainScore))\n",
        "testScore = math.sqrt(mean_squared_error(y_test[0], test_predict[:,0]))\n",
        "print('Test Score: %.2f RMSE' % (testScore))"
      ],
      "execution_count": 109,
      "outputs": [
        {
          "output_type": "stream",
          "text": [
            "Train Score: 23.24 RMSE\n",
            "Test Score: 70.43 RMSE\n"
          ],
          "name": "stdout"
        }
      ]
    },
    {
      "cell_type": "markdown",
      "metadata": {
        "id": "MdeYOad7virG"
      },
      "source": [
        " Finally, align and plot the actual and predicted values for the entire dataset including training and testing"
      ]
    },
    {
      "cell_type": "code",
      "metadata": {
        "colab": {
          "base_uri": "https://localhost:8080/"
        },
        "id": "p9JVJ1hss7uO",
        "outputId": "4fc65ece-7280-4455-d12c-9c8e2a84f5c5"
      },
      "source": [
        "train_predict"
      ],
      "execution_count": 110,
      "outputs": [
        {
          "output_type": "execute_result",
          "data": {
            "text/plain": [
              "array([[125.00249 ],\n",
              "       [125.592606],\n",
              "       [120.58578 ],\n",
              "       [129.1545  ],\n",
              "       [140.26657 ],\n",
              "       [143.00533 ],\n",
              "       [134.70076 ],\n",
              "       [121.03407 ],\n",
              "       [107.844986],\n",
              "       [113.365906],\n",
              "       [112.58195 ],\n",
              "       [120.79976 ],\n",
              "       [133.12253 ],\n",
              "       [131.7248  ],\n",
              "       [124.79304 ],\n",
              "       [140.73862 ],\n",
              "       [159.79762 ],\n",
              "       [163.4574  ],\n",
              "       [154.67247 ],\n",
              "       [134.2099  ],\n",
              "       [117.65212 ],\n",
              "       [131.91675 ],\n",
              "       [138.03223 ],\n",
              "       [144.63518 ],\n",
              "       [168.44864 ],\n",
              "       [157.78487 ],\n",
              "       [166.82954 ],\n",
              "       [171.44919 ],\n",
              "       [191.33804 ],\n",
              "       [191.22432 ],\n",
              "       [178.20987 ],\n",
              "       [159.22174 ],\n",
              "       [145.17664 ],\n",
              "       [159.2921  ],\n",
              "       [163.9009  ],\n",
              "       [173.39696 ],\n",
              "       [185.69968 ],\n",
              "       [174.9154  ],\n",
              "       [177.9007  ],\n",
              "       [210.43292 ],\n",
              "       [220.59393 ],\n",
              "       [234.30553 ],\n",
              "       [196.20888 ],\n",
              "       [185.51393 ],\n",
              "       [168.12779 ],\n",
              "       [187.93681 ],\n",
              "       [188.26501 ],\n",
              "       [189.58641 ],\n",
              "       [229.94278 ],\n",
              "       [223.52765 ],\n",
              "       [220.06891 ],\n",
              "       [237.09982 ],\n",
              "       [257.34506 ],\n",
              "       [261.30298 ],\n",
              "       [217.29785 ],\n",
              "       [201.6845  ],\n",
              "       [174.23279 ],\n",
              "       [196.07549 ],\n",
              "       [196.0333  ],\n",
              "       [181.58546 ],\n",
              "       [229.8067  ],\n",
              "       [214.66798 ],\n",
              "       [227.43239 ],\n",
              "       [259.3325  ],\n",
              "       [297.53616 ],\n",
              "       [269.8893  ],\n",
              "       [235.72375 ],\n",
              "       [215.75198 ],\n",
              "       [194.60991 ],\n",
              "       [225.04968 ],\n",
              "       [233.23248 ],\n",
              "       [222.09299 ],\n",
              "       [264.71808 ],\n",
              "       [255.38608 ],\n",
              "       [259.271   ],\n",
              "       [317.32993 ],\n",
              "       [359.05884 ],\n",
              "       [296.01636 ],\n",
              "       [274.7654  ],\n",
              "       [248.26633 ],\n",
              "       [219.96751 ],\n",
              "       [281.0605  ],\n",
              "       [269.31158 ],\n",
              "       [261.80124 ],\n",
              "       [319.4967  ],\n",
              "       [287.62473 ],\n",
              "       [304.76874 ],\n",
              "       [380.62375 ],\n",
              "       [385.05887 ],\n",
              "       [339.0243  ],\n",
              "       [285.83118 ],\n",
              "       [268.6523  ]], dtype=float32)"
            ]
          },
          "metadata": {
            "tags": []
          },
          "execution_count": 110
        }
      ]
    },
    {
      "cell_type": "code",
      "metadata": {
        "id": "RBiPVWem3frX",
        "colab": {
          "base_uri": "https://localhost:8080/"
        },
        "outputId": "fdcdc728-d5df-477a-ceff-4c005368370f"
      },
      "source": [
        "test_predict"
      ],
      "execution_count": 111,
      "outputs": [
        {
          "output_type": "execute_result",
          "data": {
            "text/plain": [
              "array([[366.95956],\n",
              "       [304.10828],\n",
              "       [337.62347],\n",
              "       [429.31818],\n",
              "       [414.73688],\n",
              "       [381.46524],\n",
              "       [293.54102],\n",
              "       [301.4465 ],\n",
              "       [275.57883],\n",
              "       [343.7482 ],\n",
              "       [314.0064 ],\n",
              "       [284.26047],\n",
              "       [370.7587 ],\n",
              "       [300.5414 ],\n",
              "       [352.1604 ],\n",
              "       [440.5685 ],\n",
              "       [439.9999 ],\n",
              "       [405.87177],\n",
              "       [234.02684],\n",
              "       [345.51047],\n",
              "       [270.10223],\n",
              "       [344.9753 ],\n",
              "       [343.46558],\n",
              "       [298.32224],\n",
              "       [422.1894 ],\n",
              "       [321.72754],\n",
              "       [406.1291 ],\n",
              "       [451.4183 ],\n",
              "       [505.15753],\n",
              "       [404.1206 ],\n",
              "       [274.63858],\n",
              "       [388.0026 ],\n",
              "       [321.83145],\n",
              "       [421.7572 ],\n",
              "       [365.83807],\n",
              "       [324.29153],\n",
              "       [416.9068 ],\n",
              "       [432.19073],\n",
              "       [396.27478],\n",
              "       [517.49054],\n",
              "       [546.99963],\n",
              "       [360.83884],\n",
              "       [354.55975],\n",
              "       [457.83783]], dtype=float32)"
            ]
          },
          "metadata": {
            "tags": []
          },
          "execution_count": 111
        }
      ]
    },
    {
      "cell_type": "code",
      "metadata": {
        "id": "8HJ2IfvokBik"
      },
      "source": [
        ""
      ],
      "execution_count": 111,
      "outputs": []
    },
    {
      "cell_type": "code",
      "metadata": {
        "colab": {
          "base_uri": "https://localhost:8080/",
          "height": 295
        },
        "id": "3sycJmjTkCqH",
        "outputId": "82f28c85-b9ce-482a-89be-5801ebf59e83"
      },
      "source": [
        "look_back = 1\n",
        "# shift train predictions for plotting\n",
        "trainPredictPlot = np.empty_like(data)\n",
        "trainPredictPlot[:, :] = np.nan\n",
        "trainPredictPlot[look_back:len(train_predict)+look_back, :] = train_predict#\n",
        "# shift test predictions for plotting\n",
        "testPredictPlot = np.empty_like(data)\n",
        "testPredictPlot[:, :] = np.nan\n",
        "testPredictPlot[len(train_predict)+(look_back*6)+1:len(data)-1, :] = test_predict#\n",
        "# plot baseline and predictions\n",
        "plt.xlabel(\"Month\")\n",
        "plt.ylabel(\"Passengers\")\n",
        "plt.title(\"Passengers Travelled\")\n",
        "plt.plot(scaler.inverse_transform(data))\n",
        "plt.plot(trainPredictPlot)\n",
        "plt.plot(testPredictPlot)\n",
        "plt.show()                "
      ],
      "execution_count": 117,
      "outputs": [
        {
          "output_type": "display_data",
          "data": {
            "image/png": "[encoded data removed]",
            "text/plain": [
              "<Figure size 432x288 with 1 Axes>"
            ]
          },
          "metadata": {
            "tags": [],
            "needs_background": "light"
          }
        }
      ]
    },
    {
      "cell_type": "code",
      "metadata": {
        "id": "WR88bhWHn1vx"
      },
      "source": [
        ""
      ],
      "execution_count": 117,
      "outputs": []
    },
    {
      "cell_type": "code",
      "metadata": {
        "id": "54xlUdjinL50"
      },
      "source": [
        ""
      ],
      "execution_count": null,
      "outputs": []
    }
  ]
}